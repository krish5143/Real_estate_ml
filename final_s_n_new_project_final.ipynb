{
 "cells": [
  {
   "cell_type": "code",
   "execution_count": 1,
   "id": "ad88e066",
   "metadata": {},
   "outputs": [
    {
     "name": "stderr",
     "output_type": "stream",
     "text": [
      "c:\\Users\\krish\\.conda\\envs\\scikit-env\\lib\\site-packages\\pandas\\_testing.py:24: FutureWarning: In the future `np.bool` will be defined as the corresponding NumPy scalar.\n",
      "  import pandas._libs.testing as _testing\n"
     ]
    },
    {
     "ename": "AttributeError",
     "evalue": "module 'numpy' has no attribute 'bool'.\n`np.bool` was a deprecated alias for the builtin `bool`. To avoid this error in existing code, use `bool` by itself. Doing this will not modify any behavior and is safe. If you specifically wanted the numpy scalar type, use `np.bool_` here.\nThe aliases was originally deprecated in NumPy 1.20; for more details and guidance see the original release note at:\n    https://numpy.org/devdocs/release/1.20.0-notes.html#deprecations",
     "output_type": "error",
     "traceback": [
      "\u001b[1;31m---------------------------------------------------------------------------\u001b[0m",
      "\u001b[1;31mAttributeError\u001b[0m                            Traceback (most recent call last)",
      "Cell \u001b[1;32mIn[1], line 1\u001b[0m\n\u001b[1;32m----> 1\u001b[0m \u001b[38;5;28;01mimport\u001b[39;00m \u001b[38;5;21;01mpandas\u001b[39;00m \u001b[38;5;28;01mas\u001b[39;00m \u001b[38;5;21;01mpd\u001b[39;00m\n\u001b[0;32m      2\u001b[0m \u001b[38;5;28;01mimport\u001b[39;00m \u001b[38;5;21;01mnumpy\u001b[39;00m \u001b[38;5;28;01mas\u001b[39;00m \u001b[38;5;21;01mnp\u001b[39;00m\n\u001b[0;32m      3\u001b[0m \u001b[38;5;28;01mfrom\u001b[39;00m \u001b[38;5;21;01mmatplotlib\u001b[39;00m \u001b[38;5;28;01mimport\u001b[39;00m pyplot \u001b[38;5;28;01mas\u001b[39;00m plt\n",
      "File \u001b[1;32mc:\\Users\\krish\\.conda\\envs\\scikit-env\\lib\\site-packages\\pandas\\__init__.py:180\u001b[0m\n\u001b[0;32m    177\u001b[0m \u001b[38;5;28;01mfrom\u001b[39;00m \u001b[38;5;21;01mpandas\u001b[39;00m\u001b[38;5;21;01m.\u001b[39;00m\u001b[38;5;21;01mio\u001b[39;00m\u001b[38;5;21;01m.\u001b[39;00m\u001b[38;5;21;01mjson\u001b[39;00m \u001b[38;5;28;01mimport\u001b[39;00m _json_normalize \u001b[38;5;28;01mas\u001b[39;00m json_normalize\n\u001b[0;32m    179\u001b[0m \u001b[38;5;28;01mfrom\u001b[39;00m \u001b[38;5;21;01mpandas\u001b[39;00m\u001b[38;5;21;01m.\u001b[39;00m\u001b[38;5;21;01mutil\u001b[39;00m\u001b[38;5;21;01m.\u001b[39;00m\u001b[38;5;21;01m_tester\u001b[39;00m \u001b[38;5;28;01mimport\u001b[39;00m test\n\u001b[1;32m--> 180\u001b[0m \u001b[38;5;28;01mimport\u001b[39;00m \u001b[38;5;21;01mpandas\u001b[39;00m\u001b[38;5;21;01m.\u001b[39;00m\u001b[38;5;21;01mtesting\u001b[39;00m\n\u001b[0;32m    181\u001b[0m \u001b[38;5;28;01mimport\u001b[39;00m \u001b[38;5;21;01mpandas\u001b[39;00m\u001b[38;5;21;01m.\u001b[39;00m\u001b[38;5;21;01marrays\u001b[39;00m\n\u001b[0;32m    183\u001b[0m \u001b[38;5;66;03m# use the closest tagged version if possible\u001b[39;00m\n",
      "File \u001b[1;32mc:\\Users\\krish\\.conda\\envs\\scikit-env\\lib\\site-packages\\pandas\\testing.py:5\u001b[0m\n\u001b[0;32m      1\u001b[0m \u001b[38;5;124;03m\"\"\"\u001b[39;00m\n\u001b[0;32m      2\u001b[0m \u001b[38;5;124;03mPublic testing utility functions.\u001b[39;00m\n\u001b[0;32m      3\u001b[0m \u001b[38;5;124;03m\"\"\"\u001b[39;00m\n\u001b[1;32m----> 5\u001b[0m \u001b[38;5;28;01mfrom\u001b[39;00m \u001b[38;5;21;01mpandas\u001b[39;00m\u001b[38;5;21;01m.\u001b[39;00m\u001b[38;5;21;01m_testing\u001b[39;00m \u001b[38;5;28;01mimport\u001b[39;00m (\n\u001b[0;32m      6\u001b[0m     assert_extension_array_equal,\n\u001b[0;32m      7\u001b[0m     assert_frame_equal,\n\u001b[0;32m      8\u001b[0m     assert_index_equal,\n\u001b[0;32m      9\u001b[0m     assert_series_equal,\n\u001b[0;32m     10\u001b[0m )\n\u001b[0;32m     12\u001b[0m __all__ \u001b[38;5;241m=\u001b[39m [\n\u001b[0;32m     13\u001b[0m     \u001b[38;5;124m\"\u001b[39m\u001b[38;5;124massert_extension_array_equal\u001b[39m\u001b[38;5;124m\"\u001b[39m,\n\u001b[0;32m     14\u001b[0m     \u001b[38;5;124m\"\u001b[39m\u001b[38;5;124massert_frame_equal\u001b[39m\u001b[38;5;124m\"\u001b[39m,\n\u001b[0;32m     15\u001b[0m     \u001b[38;5;124m\"\u001b[39m\u001b[38;5;124massert_series_equal\u001b[39m\u001b[38;5;124m\"\u001b[39m,\n\u001b[0;32m     16\u001b[0m     \u001b[38;5;124m\"\u001b[39m\u001b[38;5;124massert_index_equal\u001b[39m\u001b[38;5;124m\"\u001b[39m,\n\u001b[0;32m     17\u001b[0m ]\n",
      "File \u001b[1;32mc:\\Users\\krish\\.conda\\envs\\scikit-env\\lib\\site-packages\\pandas\\_testing.py:24\u001b[0m\n\u001b[0;32m     16\u001b[0m \u001b[38;5;28;01mfrom\u001b[39;00m \u001b[38;5;21;01mnumpy\u001b[39;00m\u001b[38;5;21;01m.\u001b[39;00m\u001b[38;5;21;01mrandom\u001b[39;00m \u001b[38;5;28;01mimport\u001b[39;00m rand, randn\n\u001b[0;32m     18\u001b[0m \u001b[38;5;28;01mfrom\u001b[39;00m \u001b[38;5;21;01mpandas\u001b[39;00m\u001b[38;5;21;01m.\u001b[39;00m\u001b[38;5;21;01m_config\u001b[39;00m\u001b[38;5;21;01m.\u001b[39;00m\u001b[38;5;21;01mlocalization\u001b[39;00m \u001b[38;5;28;01mimport\u001b[39;00m (  \u001b[38;5;66;03m# noqa:F401\u001b[39;00m\n\u001b[0;32m     19\u001b[0m     can_set_locale,\n\u001b[0;32m     20\u001b[0m     get_locales,\n\u001b[0;32m     21\u001b[0m     set_locale,\n\u001b[0;32m     22\u001b[0m )\n\u001b[1;32m---> 24\u001b[0m \u001b[38;5;28;01mimport\u001b[39;00m \u001b[38;5;21;01mpandas\u001b[39;00m\u001b[38;5;21;01m.\u001b[39;00m\u001b[38;5;21;01m_libs\u001b[39;00m\u001b[38;5;21;01m.\u001b[39;00m\u001b[38;5;21;01mtesting\u001b[39;00m \u001b[38;5;28;01mas\u001b[39;00m \u001b[38;5;21;01m_testing\u001b[39;00m\n\u001b[0;32m     25\u001b[0m \u001b[38;5;28;01mfrom\u001b[39;00m \u001b[38;5;21;01mpandas\u001b[39;00m\u001b[38;5;21;01m.\u001b[39;00m\u001b[38;5;21;01m_typing\u001b[39;00m \u001b[38;5;28;01mimport\u001b[39;00m FilePathOrBuffer, FrameOrSeries\n\u001b[0;32m     26\u001b[0m \u001b[38;5;28;01mfrom\u001b[39;00m \u001b[38;5;21;01mpandas\u001b[39;00m\u001b[38;5;21;01m.\u001b[39;00m\u001b[38;5;21;01mcompat\u001b[39;00m \u001b[38;5;28;01mimport\u001b[39;00m _get_lzma_file, _import_lzma\n",
      "File \u001b[1;32mpandas\\_libs\\testing.pyx:10\u001b[0m, in \u001b[0;36minit pandas._libs.testing\u001b[1;34m()\u001b[0m\n",
      "File \u001b[1;32mc:\\Users\\krish\\.conda\\envs\\scikit-env\\lib\\site-packages\\numpy\\__init__.py:305\u001b[0m, in \u001b[0;36m__getattr__\u001b[1;34m(attr)\u001b[0m\n\u001b[0;32m    300\u001b[0m     warnings\u001b[38;5;241m.\u001b[39mwarn(\n\u001b[0;32m    301\u001b[0m         \u001b[38;5;124mf\u001b[39m\u001b[38;5;124m\"\u001b[39m\u001b[38;5;124mIn the future `np.\u001b[39m\u001b[38;5;132;01m{\u001b[39;00mattr\u001b[38;5;132;01m}\u001b[39;00m\u001b[38;5;124m` will be defined as the \u001b[39m\u001b[38;5;124m\"\u001b[39m\n\u001b[0;32m    302\u001b[0m         \u001b[38;5;124m\"\u001b[39m\u001b[38;5;124mcorresponding NumPy scalar.\u001b[39m\u001b[38;5;124m\"\u001b[39m, \u001b[38;5;167;01mFutureWarning\u001b[39;00m, stacklevel\u001b[38;5;241m=\u001b[39m\u001b[38;5;241m2\u001b[39m)\n\u001b[0;32m    304\u001b[0m \u001b[38;5;28;01mif\u001b[39;00m attr \u001b[38;5;129;01min\u001b[39;00m __former_attrs__:\n\u001b[1;32m--> 305\u001b[0m     \u001b[38;5;28;01mraise\u001b[39;00m \u001b[38;5;167;01mAttributeError\u001b[39;00m(__former_attrs__[attr])\n\u001b[0;32m    307\u001b[0m \u001b[38;5;66;03m# Importing Tester requires importing all of UnitTest which is not a\u001b[39;00m\n\u001b[0;32m    308\u001b[0m \u001b[38;5;66;03m# cheap import Since it is mainly used in test suits, we lazy import it\u001b[39;00m\n\u001b[0;32m    309\u001b[0m \u001b[38;5;66;03m# here to save on the order of 10 ms of import time for most users\u001b[39;00m\n\u001b[0;32m    310\u001b[0m \u001b[38;5;66;03m#\u001b[39;00m\n\u001b[0;32m    311\u001b[0m \u001b[38;5;66;03m# The previous way Tester was imported also had a side effect of adding\u001b[39;00m\n\u001b[0;32m    312\u001b[0m \u001b[38;5;66;03m# the full `numpy.testing` namespace\u001b[39;00m\n\u001b[0;32m    313\u001b[0m \u001b[38;5;28;01mif\u001b[39;00m attr \u001b[38;5;241m==\u001b[39m \u001b[38;5;124m'\u001b[39m\u001b[38;5;124mtesting\u001b[39m\u001b[38;5;124m'\u001b[39m:\n",
      "\u001b[1;31mAttributeError\u001b[0m: module 'numpy' has no attribute 'bool'.\n`np.bool` was a deprecated alias for the builtin `bool`. To avoid this error in existing code, use `bool` by itself. Doing this will not modify any behavior and is safe. If you specifically wanted the numpy scalar type, use `np.bool_` here.\nThe aliases was originally deprecated in NumPy 1.20; for more details and guidance see the original release note at:\n    https://numpy.org/devdocs/release/1.20.0-notes.html#deprecations"
     ]
    }
   ],
   "source": [
    "import pandas as pd\n",
    "import numpy as np\n",
    "from matplotlib import pyplot as plt\n",
    "%matplotlib inline\n",
    "import matplotlib\n",
    "matplotlib.rcParams[\"figure.figsize\"] = (20, 10)"
   ]
  },
  {
   "cell_type": "code",
   "execution_count": null,
   "id": "752b31ae",
   "metadata": {},
   "outputs": [
    {
     "data": {
      "text/html": [
       "<div>\n",
       "<style scoped>\n",
       "    .dataframe tbody tr th:only-of-type {\n",
       "        vertical-align: middle;\n",
       "    }\n",
       "\n",
       "    .dataframe tbody tr th {\n",
       "        vertical-align: top;\n",
       "    }\n",
       "\n",
       "    .dataframe thead th {\n",
       "        text-align: right;\n",
       "    }\n",
       "</style>\n",
       "<table border=\"1\" class=\"dataframe\">\n",
       "  <thead>\n",
       "    <tr style=\"text-align: right;\">\n",
       "      <th></th>\n",
       "      <th>area_type</th>\n",
       "      <th>availability</th>\n",
       "      <th>location</th>\n",
       "      <th>size</th>\n",
       "      <th>society</th>\n",
       "      <th>total_sqft</th>\n",
       "      <th>bath</th>\n",
       "      <th>balcony</th>\n",
       "      <th>price</th>\n",
       "    </tr>\n",
       "  </thead>\n",
       "  <tbody>\n",
       "    <tr>\n",
       "      <th>0</th>\n",
       "      <td>Carpet  Area</td>\n",
       "      <td>Dec 2024</td>\n",
       "      <td>Shivaji Nagar East 27</td>\n",
       "      <td>1 BHK</td>\n",
       "      <td>Lake View</td>\n",
       "      <td>447</td>\n",
       "      <td>3</td>\n",
       "      <td>1</td>\n",
       "      <td>26.14</td>\n",
       "    </tr>\n",
       "    <tr>\n",
       "      <th>1</th>\n",
       "      <td>Plot  Area</td>\n",
       "      <td>18 Months</td>\n",
       "      <td>Jalna Road Extension 37</td>\n",
       "      <td>3 Bedroom</td>\n",
       "      <td>NaN</td>\n",
       "      <td>1013</td>\n",
       "      <td>1</td>\n",
       "      <td>3</td>\n",
       "      <td>49.71</td>\n",
       "    </tr>\n",
       "    <tr>\n",
       "      <th>2</th>\n",
       "      <td>Super built-up  Area</td>\n",
       "      <td>Immediate Possession</td>\n",
       "      <td>Vedant Nagar Central 42</td>\n",
       "      <td>3 BHK</td>\n",
       "      <td>NaN</td>\n",
       "      <td>1490</td>\n",
       "      <td>2</td>\n",
       "      <td>2</td>\n",
       "      <td>65.86</td>\n",
       "    </tr>\n",
       "    <tr>\n",
       "      <th>3</th>\n",
       "      <td>Carpet  Area</td>\n",
       "      <td>Immediate Possession</td>\n",
       "      <td>MGM Campus East 9</td>\n",
       "      <td>2 BHK</td>\n",
       "      <td>Green Park</td>\n",
       "      <td>730</td>\n",
       "      <td>5</td>\n",
       "      <td>0</td>\n",
       "      <td>35.93</td>\n",
       "    </tr>\n",
       "    <tr>\n",
       "      <th>4</th>\n",
       "      <td>Carpet  Area</td>\n",
       "      <td>Dec 2024</td>\n",
       "      <td>Waluj MIDC Enclave 41</td>\n",
       "      <td>3 BHK</td>\n",
       "      <td>Sai Residency</td>\n",
       "      <td>1005</td>\n",
       "      <td>2</td>\n",
       "      <td>0</td>\n",
       "      <td>36.34</td>\n",
       "    </tr>\n",
       "  </tbody>\n",
       "</table>\n",
       "</div>"
      ],
      "text/plain": [
       "              area_type          availability                 location  \\\n",
       "0          Carpet  Area              Dec 2024    Shivaji Nagar East 27   \n",
       "1            Plot  Area             18 Months  Jalna Road Extension 37   \n",
       "2  Super built-up  Area  Immediate Possession  Vedant Nagar Central 42   \n",
       "3          Carpet  Area  Immediate Possession        MGM Campus East 9   \n",
       "4          Carpet  Area              Dec 2024    Waluj MIDC Enclave 41   \n",
       "\n",
       "        size        society  total_sqft  bath  balcony  price  \n",
       "0      1 BHK      Lake View         447     3        1  26.14  \n",
       "1  3 Bedroom            NaN        1013     1        3  49.71  \n",
       "2      3 BHK            NaN        1490     2        2  65.86  \n",
       "3      2 BHK     Green Park         730     5        0  35.93  \n",
       "4      3 BHK  Sai Residency        1005     2        0  36.34  "
      ]
     },
     "execution_count": 2,
     "metadata": {},
     "output_type": "execute_result"
    }
   ],
   "source": [
    "df1 = pd.read_csv(\"sambhaji_nagar_13000_rows.csv\")\n",
    "df1.head()"
   ]
  },
  {
   "cell_type": "code",
   "execution_count": null,
   "id": "6ffc3c13",
   "metadata": {},
   "outputs": [
    {
     "data": {
      "text/plain": [
       "(13000, 9)"
      ]
     },
     "execution_count": 3,
     "metadata": {},
     "output_type": "execute_result"
    }
   ],
   "source": [
    "df1.shape\n"
   ]
  },
  {
   "cell_type": "code",
   "execution_count": null,
   "id": "d1a69599",
   "metadata": {},
   "outputs": [
    {
     "data": {
      "text/plain": [
       "area_type\n",
       "Built-up  Area          3206\n",
       "Carpet  Area            3289\n",
       "Plot  Area              3200\n",
       "Super built-up  Area    3305\n",
       "Name: area_type, dtype: int64"
      ]
     },
     "execution_count": 4,
     "metadata": {},
     "output_type": "execute_result"
    }
   ],
   "source": [
    "df1.groupby('area_type')['area_type'].agg('count')\n"
   ]
  },
  {
   "cell_type": "code",
   "execution_count": null,
   "id": "9a689329",
   "metadata": {},
   "outputs": [
    {
     "data": {
      "text/html": [
       "<div>\n",
       "<style scoped>\n",
       "    .dataframe tbody tr th:only-of-type {\n",
       "        vertical-align: middle;\n",
       "    }\n",
       "\n",
       "    .dataframe tbody tr th {\n",
       "        vertical-align: top;\n",
       "    }\n",
       "\n",
       "    .dataframe thead th {\n",
       "        text-align: right;\n",
       "    }\n",
       "</style>\n",
       "<table border=\"1\" class=\"dataframe\">\n",
       "  <thead>\n",
       "    <tr style=\"text-align: right;\">\n",
       "      <th></th>\n",
       "      <th>location</th>\n",
       "      <th>size</th>\n",
       "      <th>total_sqft</th>\n",
       "      <th>bath</th>\n",
       "      <th>price</th>\n",
       "    </tr>\n",
       "  </thead>\n",
       "  <tbody>\n",
       "    <tr>\n",
       "      <th>0</th>\n",
       "      <td>Shivaji Nagar East 27</td>\n",
       "      <td>1 BHK</td>\n",
       "      <td>447</td>\n",
       "      <td>3</td>\n",
       "      <td>26.14</td>\n",
       "    </tr>\n",
       "    <tr>\n",
       "      <th>1</th>\n",
       "      <td>Jalna Road Extension 37</td>\n",
       "      <td>3 Bedroom</td>\n",
       "      <td>1013</td>\n",
       "      <td>1</td>\n",
       "      <td>49.71</td>\n",
       "    </tr>\n",
       "    <tr>\n",
       "      <th>2</th>\n",
       "      <td>Vedant Nagar Central 42</td>\n",
       "      <td>3 BHK</td>\n",
       "      <td>1490</td>\n",
       "      <td>2</td>\n",
       "      <td>65.86</td>\n",
       "    </tr>\n",
       "    <tr>\n",
       "      <th>3</th>\n",
       "      <td>MGM Campus East 9</td>\n",
       "      <td>2 BHK</td>\n",
       "      <td>730</td>\n",
       "      <td>5</td>\n",
       "      <td>35.93</td>\n",
       "    </tr>\n",
       "    <tr>\n",
       "      <th>4</th>\n",
       "      <td>Waluj MIDC Enclave 41</td>\n",
       "      <td>3 BHK</td>\n",
       "      <td>1005</td>\n",
       "      <td>2</td>\n",
       "      <td>36.34</td>\n",
       "    </tr>\n",
       "  </tbody>\n",
       "</table>\n",
       "</div>"
      ],
      "text/plain": [
       "                  location       size  total_sqft  bath  price\n",
       "0    Shivaji Nagar East 27      1 BHK         447     3  26.14\n",
       "1  Jalna Road Extension 37  3 Bedroom        1013     1  49.71\n",
       "2  Vedant Nagar Central 42      3 BHK        1490     2  65.86\n",
       "3        MGM Campus East 9      2 BHK         730     5  35.93\n",
       "4    Waluj MIDC Enclave 41      3 BHK        1005     2  36.34"
      ]
     },
     "execution_count": 5,
     "metadata": {},
     "output_type": "execute_result"
    }
   ],
   "source": [
    "df2 = df1.drop(['area_type','society','balcony','availability'], axis='columns')\n",
    "df2.head()"
   ]
  },
  {
   "cell_type": "code",
   "execution_count": null,
   "id": "09446b29",
   "metadata": {},
   "outputs": [
    {
     "data": {
      "text/plain": [
       "(13000, 5)"
      ]
     },
     "execution_count": 6,
     "metadata": {},
     "output_type": "execute_result"
    }
   ],
   "source": [
    "df2.shape"
   ]
  },
  {
   "cell_type": "code",
   "execution_count": null,
   "id": "fc166505",
   "metadata": {},
   "outputs": [
    {
     "data": {
      "text/plain": [
       "location      0\n",
       "size          0\n",
       "total_sqft    0\n",
       "bath          0\n",
       "price         0\n",
       "dtype: int64"
      ]
     },
     "execution_count": 7,
     "metadata": {},
     "output_type": "execute_result"
    }
   ],
   "source": [
    "df2.isnull().sum()\n"
   ]
  },
  {
   "cell_type": "code",
   "execution_count": null,
   "id": "1385aee8",
   "metadata": {},
   "outputs": [
    {
     "data": {
      "text/plain": [
       "location      0\n",
       "size          0\n",
       "total_sqft    0\n",
       "bath          0\n",
       "price         0\n",
       "dtype: int64"
      ]
     },
     "execution_count": 8,
     "metadata": {},
     "output_type": "execute_result"
    }
   ],
   "source": [
    "df3 = df2.dropna()\n",
    "df3.isnull().sum()"
   ]
  },
  {
   "cell_type": "code",
   "execution_count": null,
   "id": "911ec22d",
   "metadata": {},
   "outputs": [
    {
     "data": {
      "text/plain": [
       "(13000, 5)"
      ]
     },
     "execution_count": 9,
     "metadata": {},
     "output_type": "execute_result"
    }
   ],
   "source": [
    "df3.shape\n"
   ]
  },
  {
   "cell_type": "code",
   "execution_count": null,
   "id": "a7dd6af1",
   "metadata": {},
   "outputs": [
    {
     "data": {
      "text/html": [
       "<div>\n",
       "<style scoped>\n",
       "    .dataframe tbody tr th:only-of-type {\n",
       "        vertical-align: middle;\n",
       "    }\n",
       "\n",
       "    .dataframe tbody tr th {\n",
       "        vertical-align: top;\n",
       "    }\n",
       "\n",
       "    .dataframe thead th {\n",
       "        text-align: right;\n",
       "    }\n",
       "</style>\n",
       "<table border=\"1\" class=\"dataframe\">\n",
       "  <thead>\n",
       "    <tr style=\"text-align: right;\">\n",
       "      <th></th>\n",
       "      <th>location</th>\n",
       "      <th>size</th>\n",
       "      <th>total_sqft</th>\n",
       "      <th>bath</th>\n",
       "      <th>price</th>\n",
       "    </tr>\n",
       "  </thead>\n",
       "  <tbody>\n",
       "    <tr>\n",
       "      <th>0</th>\n",
       "      <td>Shivaji Nagar East 27</td>\n",
       "      <td>1 BHK</td>\n",
       "      <td>447</td>\n",
       "      <td>3</td>\n",
       "      <td>26.14</td>\n",
       "    </tr>\n",
       "    <tr>\n",
       "      <th>1</th>\n",
       "      <td>Jalna Road Extension 37</td>\n",
       "      <td>3 Bedroom</td>\n",
       "      <td>1013</td>\n",
       "      <td>1</td>\n",
       "      <td>49.71</td>\n",
       "    </tr>\n",
       "    <tr>\n",
       "      <th>2</th>\n",
       "      <td>Vedant Nagar Central 42</td>\n",
       "      <td>3 BHK</td>\n",
       "      <td>1490</td>\n",
       "      <td>2</td>\n",
       "      <td>65.86</td>\n",
       "    </tr>\n",
       "    <tr>\n",
       "      <th>3</th>\n",
       "      <td>MGM Campus East 9</td>\n",
       "      <td>2 BHK</td>\n",
       "      <td>730</td>\n",
       "      <td>5</td>\n",
       "      <td>35.93</td>\n",
       "    </tr>\n",
       "    <tr>\n",
       "      <th>4</th>\n",
       "      <td>Waluj MIDC Enclave 41</td>\n",
       "      <td>3 BHK</td>\n",
       "      <td>1005</td>\n",
       "      <td>2</td>\n",
       "      <td>36.34</td>\n",
       "    </tr>\n",
       "  </tbody>\n",
       "</table>\n",
       "</div>"
      ],
      "text/plain": [
       "                  location       size  total_sqft  bath  price\n",
       "0    Shivaji Nagar East 27      1 BHK         447     3  26.14\n",
       "1  Jalna Road Extension 37  3 Bedroom        1013     1  49.71\n",
       "2  Vedant Nagar Central 42      3 BHK        1490     2  65.86\n",
       "3        MGM Campus East 9      2 BHK         730     5  35.93\n",
       "4    Waluj MIDC Enclave 41      3 BHK        1005     2  36.34"
      ]
     },
     "execution_count": 10,
     "metadata": {},
     "output_type": "execute_result"
    }
   ],
   "source": [
    "df3.head()\n"
   ]
  },
  {
   "cell_type": "code",
   "execution_count": null,
   "id": "29d154bf",
   "metadata": {},
   "outputs": [
    {
     "data": {
      "text/plain": [
       "array(['1 BHK', '3 Bedroom', '3 BHK', '2 BHK', '5 BHK', '2 Bedroom',\n",
       "       '4 BHK'], dtype=object)"
      ]
     },
     "execution_count": 11,
     "metadata": {},
     "output_type": "execute_result"
    }
   ],
   "source": [
    "df3['size'].unique()\n"
   ]
  },
  {
   "cell_type": "code",
   "execution_count": null,
   "id": "394070da",
   "metadata": {},
   "outputs": [],
   "source": [
    "df3['bhk'] = df3['size'].apply(lambda x: int(x.split(' ')[0]))\n"
   ]
  },
  {
   "cell_type": "code",
   "execution_count": null,
   "id": "6028c1f1",
   "metadata": {},
   "outputs": [
    {
     "data": {
      "text/html": [
       "<div>\n",
       "<style scoped>\n",
       "    .dataframe tbody tr th:only-of-type {\n",
       "        vertical-align: middle;\n",
       "    }\n",
       "\n",
       "    .dataframe tbody tr th {\n",
       "        vertical-align: top;\n",
       "    }\n",
       "\n",
       "    .dataframe thead th {\n",
       "        text-align: right;\n",
       "    }\n",
       "</style>\n",
       "<table border=\"1\" class=\"dataframe\">\n",
       "  <thead>\n",
       "    <tr style=\"text-align: right;\">\n",
       "      <th></th>\n",
       "      <th>location</th>\n",
       "      <th>size</th>\n",
       "      <th>total_sqft</th>\n",
       "      <th>bath</th>\n",
       "      <th>price</th>\n",
       "      <th>bhk</th>\n",
       "    </tr>\n",
       "  </thead>\n",
       "  <tbody>\n",
       "    <tr>\n",
       "      <th>0</th>\n",
       "      <td>Shivaji Nagar East 27</td>\n",
       "      <td>1 BHK</td>\n",
       "      <td>447</td>\n",
       "      <td>3</td>\n",
       "      <td>26.14</td>\n",
       "      <td>1</td>\n",
       "    </tr>\n",
       "    <tr>\n",
       "      <th>1</th>\n",
       "      <td>Jalna Road Extension 37</td>\n",
       "      <td>3 Bedroom</td>\n",
       "      <td>1013</td>\n",
       "      <td>1</td>\n",
       "      <td>49.71</td>\n",
       "      <td>3</td>\n",
       "    </tr>\n",
       "    <tr>\n",
       "      <th>2</th>\n",
       "      <td>Vedant Nagar Central 42</td>\n",
       "      <td>3 BHK</td>\n",
       "      <td>1490</td>\n",
       "      <td>2</td>\n",
       "      <td>65.86</td>\n",
       "      <td>3</td>\n",
       "    </tr>\n",
       "    <tr>\n",
       "      <th>3</th>\n",
       "      <td>MGM Campus East 9</td>\n",
       "      <td>2 BHK</td>\n",
       "      <td>730</td>\n",
       "      <td>5</td>\n",
       "      <td>35.93</td>\n",
       "      <td>2</td>\n",
       "    </tr>\n",
       "    <tr>\n",
       "      <th>4</th>\n",
       "      <td>Waluj MIDC Enclave 41</td>\n",
       "      <td>3 BHK</td>\n",
       "      <td>1005</td>\n",
       "      <td>2</td>\n",
       "      <td>36.34</td>\n",
       "      <td>3</td>\n",
       "    </tr>\n",
       "  </tbody>\n",
       "</table>\n",
       "</div>"
      ],
      "text/plain": [
       "                  location       size  total_sqft  bath  price  bhk\n",
       "0    Shivaji Nagar East 27      1 BHK         447     3  26.14    1\n",
       "1  Jalna Road Extension 37  3 Bedroom        1013     1  49.71    3\n",
       "2  Vedant Nagar Central 42      3 BHK        1490     2  65.86    3\n",
       "3        MGM Campus East 9      2 BHK         730     5  35.93    2\n",
       "4    Waluj MIDC Enclave 41      3 BHK        1005     2  36.34    3"
      ]
     },
     "execution_count": 13,
     "metadata": {},
     "output_type": "execute_result"
    }
   ],
   "source": [
    "df3.head()\n"
   ]
  },
  {
   "cell_type": "code",
   "execution_count": null,
   "id": "70d0d617",
   "metadata": {},
   "outputs": [
    {
     "data": {
      "text/plain": [
       "array([1, 3, 2, 5, 4], dtype=int64)"
      ]
     },
     "execution_count": 14,
     "metadata": {},
     "output_type": "execute_result"
    }
   ],
   "source": [
    "df3['bhk'].unique()\n"
   ]
  },
  {
   "cell_type": "code",
   "execution_count": null,
   "id": "2d11cd9c",
   "metadata": {},
   "outputs": [
    {
     "data": {
      "text/plain": [
       "array([ 447, 1013, 1490, ..., 2250, 1349, 2392], dtype=int64)"
      ]
     },
     "execution_count": 15,
     "metadata": {},
     "output_type": "execute_result"
    }
   ],
   "source": [
    "df3.total_sqft.unique()\n"
   ]
  },
  {
   "cell_type": "code",
   "execution_count": null,
   "id": "0ed0ce6f",
   "metadata": {},
   "outputs": [
    {
     "data": {
      "text/plain": [
       "location      Garkheda Enclave 50\n",
       "size                        2 BHK\n",
       "total_sqft                    991\n",
       "bath                            4\n",
       "price                       48.82\n",
       "bhk                             2\n",
       "Name: 30, dtype: object"
      ]
     },
     "execution_count": 16,
     "metadata": {},
     "output_type": "execute_result"
    }
   ],
   "source": [
    "df3.loc[30]"
   ]
  },
  {
   "cell_type": "code",
   "execution_count": null,
   "id": "83cfd781",
   "metadata": {},
   "outputs": [
    {
     "data": {
      "text/html": [
       "<div>\n",
       "<style scoped>\n",
       "    .dataframe tbody tr th:only-of-type {\n",
       "        vertical-align: middle;\n",
       "    }\n",
       "\n",
       "    .dataframe tbody tr th {\n",
       "        vertical-align: top;\n",
       "    }\n",
       "\n",
       "    .dataframe thead th {\n",
       "        text-align: right;\n",
       "    }\n",
       "</style>\n",
       "<table border=\"1\" class=\"dataframe\">\n",
       "  <thead>\n",
       "    <tr style=\"text-align: right;\">\n",
       "      <th></th>\n",
       "      <th>location</th>\n",
       "      <th>size</th>\n",
       "      <th>total_sqft</th>\n",
       "      <th>bath</th>\n",
       "      <th>price</th>\n",
       "      <th>bhk</th>\n",
       "    </tr>\n",
       "  </thead>\n",
       "  <tbody>\n",
       "    <tr>\n",
       "      <th>0</th>\n",
       "      <td>Shivaji Nagar East 27</td>\n",
       "      <td>1 BHK</td>\n",
       "      <td>447</td>\n",
       "      <td>3</td>\n",
       "      <td>26.14</td>\n",
       "      <td>1</td>\n",
       "    </tr>\n",
       "    <tr>\n",
       "      <th>1</th>\n",
       "      <td>Jalna Road Extension 37</td>\n",
       "      <td>3 Bedroom</td>\n",
       "      <td>1013</td>\n",
       "      <td>1</td>\n",
       "      <td>49.71</td>\n",
       "      <td>3</td>\n",
       "    </tr>\n",
       "    <tr>\n",
       "      <th>2</th>\n",
       "      <td>Vedant Nagar Central 42</td>\n",
       "      <td>3 BHK</td>\n",
       "      <td>1490</td>\n",
       "      <td>2</td>\n",
       "      <td>65.86</td>\n",
       "      <td>3</td>\n",
       "    </tr>\n",
       "    <tr>\n",
       "      <th>3</th>\n",
       "      <td>MGM Campus East 9</td>\n",
       "      <td>2 BHK</td>\n",
       "      <td>730</td>\n",
       "      <td>5</td>\n",
       "      <td>35.93</td>\n",
       "      <td>2</td>\n",
       "    </tr>\n",
       "    <tr>\n",
       "      <th>4</th>\n",
       "      <td>Waluj MIDC Enclave 41</td>\n",
       "      <td>3 BHK</td>\n",
       "      <td>1005</td>\n",
       "      <td>2</td>\n",
       "      <td>36.34</td>\n",
       "      <td>3</td>\n",
       "    </tr>\n",
       "  </tbody>\n",
       "</table>\n",
       "</div>"
      ],
      "text/plain": [
       "                  location       size  total_sqft  bath  price  bhk\n",
       "0    Shivaji Nagar East 27      1 BHK         447     3  26.14    1\n",
       "1  Jalna Road Extension 37  3 Bedroom        1013     1  49.71    3\n",
       "2  Vedant Nagar Central 42      3 BHK        1490     2  65.86    3\n",
       "3        MGM Campus East 9      2 BHK         730     5  35.93    2\n",
       "4    Waluj MIDC Enclave 41      3 BHK        1005     2  36.34    3"
      ]
     },
     "execution_count": 17,
     "metadata": {},
     "output_type": "execute_result"
    }
   ],
   "source": [
    "df3.head(5)\n"
   ]
  },
  {
   "cell_type": "code",
   "execution_count": null,
   "id": "74aef7f6",
   "metadata": {},
   "outputs": [
    {
     "data": {
      "text/html": [
       "<div>\n",
       "<style scoped>\n",
       "    .dataframe tbody tr th:only-of-type {\n",
       "        vertical-align: middle;\n",
       "    }\n",
       "\n",
       "    .dataframe tbody tr th {\n",
       "        vertical-align: top;\n",
       "    }\n",
       "\n",
       "    .dataframe thead th {\n",
       "        text-align: right;\n",
       "    }\n",
       "</style>\n",
       "<table border=\"1\" class=\"dataframe\">\n",
       "  <thead>\n",
       "    <tr style=\"text-align: right;\">\n",
       "      <th></th>\n",
       "      <th>location</th>\n",
       "      <th>size</th>\n",
       "      <th>total_sqft</th>\n",
       "      <th>bath</th>\n",
       "      <th>price</th>\n",
       "      <th>bhk</th>\n",
       "      <th>price_per_sqft</th>\n",
       "    </tr>\n",
       "  </thead>\n",
       "  <tbody>\n",
       "    <tr>\n",
       "      <th>0</th>\n",
       "      <td>Shivaji Nagar East 27</td>\n",
       "      <td>1 BHK</td>\n",
       "      <td>447</td>\n",
       "      <td>3</td>\n",
       "      <td>26.14</td>\n",
       "      <td>1</td>\n",
       "      <td>5847.874720</td>\n",
       "    </tr>\n",
       "    <tr>\n",
       "      <th>1</th>\n",
       "      <td>Jalna Road Extension 37</td>\n",
       "      <td>3 Bedroom</td>\n",
       "      <td>1013</td>\n",
       "      <td>1</td>\n",
       "      <td>49.71</td>\n",
       "      <td>3</td>\n",
       "      <td>4907.206318</td>\n",
       "    </tr>\n",
       "    <tr>\n",
       "      <th>2</th>\n",
       "      <td>Vedant Nagar Central 42</td>\n",
       "      <td>3 BHK</td>\n",
       "      <td>1490</td>\n",
       "      <td>2</td>\n",
       "      <td>65.86</td>\n",
       "      <td>3</td>\n",
       "      <td>4420.134228</td>\n",
       "    </tr>\n",
       "    <tr>\n",
       "      <th>3</th>\n",
       "      <td>MGM Campus East 9</td>\n",
       "      <td>2 BHK</td>\n",
       "      <td>730</td>\n",
       "      <td>5</td>\n",
       "      <td>35.93</td>\n",
       "      <td>2</td>\n",
       "      <td>4921.917808</td>\n",
       "    </tr>\n",
       "    <tr>\n",
       "      <th>4</th>\n",
       "      <td>Waluj MIDC Enclave 41</td>\n",
       "      <td>3 BHK</td>\n",
       "      <td>1005</td>\n",
       "      <td>2</td>\n",
       "      <td>36.34</td>\n",
       "      <td>3</td>\n",
       "      <td>3615.920398</td>\n",
       "    </tr>\n",
       "  </tbody>\n",
       "</table>\n",
       "</div>"
      ],
      "text/plain": [
       "                  location       size  total_sqft  bath  price  bhk  \\\n",
       "0    Shivaji Nagar East 27      1 BHK         447     3  26.14    1   \n",
       "1  Jalna Road Extension 37  3 Bedroom        1013     1  49.71    3   \n",
       "2  Vedant Nagar Central 42      3 BHK        1490     2  65.86    3   \n",
       "3        MGM Campus East 9      2 BHK         730     5  35.93    2   \n",
       "4    Waluj MIDC Enclave 41      3 BHK        1005     2  36.34    3   \n",
       "\n",
       "   price_per_sqft  \n",
       "0     5847.874720  \n",
       "1     4907.206318  \n",
       "2     4420.134228  \n",
       "3     4921.917808  \n",
       "4     3615.920398  "
      ]
     },
     "execution_count": 18,
     "metadata": {},
     "output_type": "execute_result"
    }
   ],
   "source": [
    "df5 = df3.copy()\n",
    "df5['price_per_sqft'] = df5['price']*100000/df5['total_sqft']\n",
    "df5.head()"
   ]
  },
  {
   "cell_type": "code",
   "execution_count": null,
   "id": "9e90cee3",
   "metadata": {},
   "outputs": [
    {
     "data": {
      "text/plain": [
       "array(['Shivaji Nagar East 27', 'Jalna Road Extension 37',\n",
       "       'Vedant Nagar Central 42', ..., 'CIDCO Central 9',\n",
       "       'Nirala Bazaar West 20', 'Satara Area Block 44'], dtype=object)"
      ]
     },
     "execution_count": 19,
     "metadata": {},
     "output_type": "execute_result"
    }
   ],
   "source": [
    "df5.location.unique()\n"
   ]
  },
  {
   "cell_type": "code",
   "execution_count": null,
   "id": "f686a00e",
   "metadata": {},
   "outputs": [
    {
     "data": {
      "text/plain": [
       "1400"
      ]
     },
     "execution_count": 20,
     "metadata": {},
     "output_type": "execute_result"
    }
   ],
   "source": [
    "len(df5.location.unique())\n"
   ]
  },
  {
   "cell_type": "code",
   "execution_count": null,
   "id": "57687000",
   "metadata": {},
   "outputs": [
    {
     "data": {
      "text/plain": [
       "location\n",
       "Shahgunj Block 55          20\n",
       "Vedant Nagar Enclave 10    20\n",
       "Beed Bypass Enclave 34     18\n",
       "Paithan Road Sector 11     18\n",
       "CIDCO Enclave 42           18\n",
       "                           ..\n",
       "Satara Area South 49        2\n",
       "Jalna Road Enclave 44       2\n",
       "Aurangpura Enclave 17       2\n",
       "Aurangpura Enclave 24       2\n",
       "Hudco Enclave 51            1\n",
       "Name: location, Length: 1400, dtype: int64"
      ]
     },
     "execution_count": 21,
     "metadata": {},
     "output_type": "execute_result"
    }
   ],
   "source": [
    "df5.location = df5.location.apply(lambda x: x.strip())\n",
    "location_stats = df5.groupby('location')['location'].agg('count').sort_values(ascending=False)\n",
    "location_stats"
   ]
  },
  {
   "cell_type": "code",
   "execution_count": null,
   "id": "6895f983",
   "metadata": {},
   "outputs": [
    {
     "data": {
      "text/plain": [
       "941"
      ]
     },
     "execution_count": 22,
     "metadata": {},
     "output_type": "execute_result"
    }
   ],
   "source": [
    "len(location_stats[location_stats<=10])\n"
   ]
  },
  {
   "cell_type": "code",
   "execution_count": null,
   "id": "d3c870af",
   "metadata": {},
   "outputs": [
    {
     "data": {
      "text/plain": [
       "location\n",
       "Shendra MIDC Enclave 41    10\n",
       "Mukundwadi East 30         10\n",
       "Waluj MIDC West 59         10\n",
       "Mukundwadi Block 41        10\n",
       "MGM Campus West 58         10\n",
       "                           ..\n",
       "Satara Area South 49        2\n",
       "Jalna Road Enclave 44       2\n",
       "Aurangpura Enclave 17       2\n",
       "Aurangpura Enclave 24       2\n",
       "Hudco Enclave 51            1\n",
       "Name: location, Length: 941, dtype: int64"
      ]
     },
     "execution_count": 23,
     "metadata": {},
     "output_type": "execute_result"
    }
   ],
   "source": [
    "location_stats_less_than_10 = location_stats[location_stats<=10]\n",
    "location_stats_less_than_10"
   ]
  },
  {
   "cell_type": "code",
   "execution_count": null,
   "id": "08225d5d",
   "metadata": {},
   "outputs": [
    {
     "data": {
      "text/plain": [
       "1400"
      ]
     },
     "execution_count": 24,
     "metadata": {},
     "output_type": "execute_result"
    }
   ],
   "source": [
    "len(df5.location.unique())\n"
   ]
  },
  {
   "cell_type": "code",
   "execution_count": null,
   "id": "ecdf88cd",
   "metadata": {},
   "outputs": [
    {
     "data": {
      "text/plain": [
       "460"
      ]
     },
     "execution_count": 25,
     "metadata": {},
     "output_type": "execute_result"
    }
   ],
   "source": [
    "df5.location = df5.location.apply(lambda x: 'other' if x in location_stats_less_than_10 else x)\n",
    "len(df5.location.unique())"
   ]
  },
  {
   "cell_type": "code",
   "execution_count": null,
   "id": "29251b7f",
   "metadata": {},
   "outputs": [
    {
     "data": {
      "text/html": [
       "<div>\n",
       "<style scoped>\n",
       "    .dataframe tbody tr th:only-of-type {\n",
       "        vertical-align: middle;\n",
       "    }\n",
       "\n",
       "    .dataframe tbody tr th {\n",
       "        vertical-align: top;\n",
       "    }\n",
       "\n",
       "    .dataframe thead th {\n",
       "        text-align: right;\n",
       "    }\n",
       "</style>\n",
       "<table border=\"1\" class=\"dataframe\">\n",
       "  <thead>\n",
       "    <tr style=\"text-align: right;\">\n",
       "      <th></th>\n",
       "      <th>location</th>\n",
       "      <th>size</th>\n",
       "      <th>total_sqft</th>\n",
       "      <th>bath</th>\n",
       "      <th>price</th>\n",
       "      <th>bhk</th>\n",
       "      <th>price_per_sqft</th>\n",
       "    </tr>\n",
       "  </thead>\n",
       "  <tbody>\n",
       "    <tr>\n",
       "      <th>0</th>\n",
       "      <td>other</td>\n",
       "      <td>1 BHK</td>\n",
       "      <td>447</td>\n",
       "      <td>3</td>\n",
       "      <td>26.14</td>\n",
       "      <td>1</td>\n",
       "      <td>5847.874720</td>\n",
       "    </tr>\n",
       "    <tr>\n",
       "      <th>1</th>\n",
       "      <td>other</td>\n",
       "      <td>3 Bedroom</td>\n",
       "      <td>1013</td>\n",
       "      <td>1</td>\n",
       "      <td>49.71</td>\n",
       "      <td>3</td>\n",
       "      <td>4907.206318</td>\n",
       "    </tr>\n",
       "    <tr>\n",
       "      <th>2</th>\n",
       "      <td>Vedant Nagar Central 42</td>\n",
       "      <td>3 BHK</td>\n",
       "      <td>1490</td>\n",
       "      <td>2</td>\n",
       "      <td>65.86</td>\n",
       "      <td>3</td>\n",
       "      <td>4420.134228</td>\n",
       "    </tr>\n",
       "    <tr>\n",
       "      <th>3</th>\n",
       "      <td>other</td>\n",
       "      <td>2 BHK</td>\n",
       "      <td>730</td>\n",
       "      <td>5</td>\n",
       "      <td>35.93</td>\n",
       "      <td>2</td>\n",
       "      <td>4921.917808</td>\n",
       "    </tr>\n",
       "    <tr>\n",
       "      <th>4</th>\n",
       "      <td>other</td>\n",
       "      <td>3 BHK</td>\n",
       "      <td>1005</td>\n",
       "      <td>2</td>\n",
       "      <td>36.34</td>\n",
       "      <td>3</td>\n",
       "      <td>3615.920398</td>\n",
       "    </tr>\n",
       "    <tr>\n",
       "      <th>5</th>\n",
       "      <td>other</td>\n",
       "      <td>5 BHK</td>\n",
       "      <td>3653</td>\n",
       "      <td>2</td>\n",
       "      <td>140.33</td>\n",
       "      <td>5</td>\n",
       "      <td>3841.500137</td>\n",
       "    </tr>\n",
       "    <tr>\n",
       "      <th>6</th>\n",
       "      <td>other</td>\n",
       "      <td>3 Bedroom</td>\n",
       "      <td>1299</td>\n",
       "      <td>3</td>\n",
       "      <td>50.69</td>\n",
       "      <td>3</td>\n",
       "      <td>3902.232487</td>\n",
       "    </tr>\n",
       "    <tr>\n",
       "      <th>7</th>\n",
       "      <td>other</td>\n",
       "      <td>1 BHK</td>\n",
       "      <td>670</td>\n",
       "      <td>5</td>\n",
       "      <td>27.95</td>\n",
       "      <td>1</td>\n",
       "      <td>4171.641791</td>\n",
       "    </tr>\n",
       "    <tr>\n",
       "      <th>8</th>\n",
       "      <td>other</td>\n",
       "      <td>3 Bedroom</td>\n",
       "      <td>1346</td>\n",
       "      <td>1</td>\n",
       "      <td>56.59</td>\n",
       "      <td>3</td>\n",
       "      <td>4204.309064</td>\n",
       "    </tr>\n",
       "    <tr>\n",
       "      <th>9</th>\n",
       "      <td>Seven Hills Central 7</td>\n",
       "      <td>1 BHK</td>\n",
       "      <td>445</td>\n",
       "      <td>3</td>\n",
       "      <td>23.76</td>\n",
       "      <td>1</td>\n",
       "      <td>5339.325843</td>\n",
       "    </tr>\n",
       "  </tbody>\n",
       "</table>\n",
       "</div>"
      ],
      "text/plain": [
       "                  location       size  total_sqft  bath   price  bhk  \\\n",
       "0                    other      1 BHK         447     3   26.14    1   \n",
       "1                    other  3 Bedroom        1013     1   49.71    3   \n",
       "2  Vedant Nagar Central 42      3 BHK        1490     2   65.86    3   \n",
       "3                    other      2 BHK         730     5   35.93    2   \n",
       "4                    other      3 BHK        1005     2   36.34    3   \n",
       "5                    other      5 BHK        3653     2  140.33    5   \n",
       "6                    other  3 Bedroom        1299     3   50.69    3   \n",
       "7                    other      1 BHK         670     5   27.95    1   \n",
       "8                    other  3 Bedroom        1346     1   56.59    3   \n",
       "9    Seven Hills Central 7      1 BHK         445     3   23.76    1   \n",
       "\n",
       "   price_per_sqft  \n",
       "0     5847.874720  \n",
       "1     4907.206318  \n",
       "2     4420.134228  \n",
       "3     4921.917808  \n",
       "4     3615.920398  \n",
       "5     3841.500137  \n",
       "6     3902.232487  \n",
       "7     4171.641791  \n",
       "8     4204.309064  \n",
       "9     5339.325843  "
      ]
     },
     "execution_count": 26,
     "metadata": {},
     "output_type": "execute_result"
    }
   ],
   "source": [
    "df5.head(10)"
   ]
  },
  {
   "cell_type": "code",
   "execution_count": null,
   "id": "f428f701",
   "metadata": {},
   "outputs": [
    {
     "data": {
      "text/html": [
       "<div>\n",
       "<style scoped>\n",
       "    .dataframe tbody tr th:only-of-type {\n",
       "        vertical-align: middle;\n",
       "    }\n",
       "\n",
       "    .dataframe tbody tr th {\n",
       "        vertical-align: top;\n",
       "    }\n",
       "\n",
       "    .dataframe thead th {\n",
       "        text-align: right;\n",
       "    }\n",
       "</style>\n",
       "<table border=\"1\" class=\"dataframe\">\n",
       "  <thead>\n",
       "    <tr style=\"text-align: right;\">\n",
       "      <th></th>\n",
       "      <th>location</th>\n",
       "      <th>size</th>\n",
       "      <th>total_sqft</th>\n",
       "      <th>bath</th>\n",
       "      <th>price</th>\n",
       "      <th>bhk</th>\n",
       "      <th>price_per_sqft</th>\n",
       "    </tr>\n",
       "  </thead>\n",
       "  <tbody>\n",
       "  </tbody>\n",
       "</table>\n",
       "</div>"
      ],
      "text/plain": [
       "Empty DataFrame\n",
       "Columns: [location, size, total_sqft, bath, price, bhk, price_per_sqft]\n",
       "Index: []"
      ]
     },
     "execution_count": 27,
     "metadata": {},
     "output_type": "execute_result"
    }
   ],
   "source": [
    "df5[df5.total_sqft/df5.bhk<300].head()\n"
   ]
  },
  {
   "cell_type": "code",
   "execution_count": null,
   "id": "cfd384fe",
   "metadata": {},
   "outputs": [
    {
     "data": {
      "text/plain": [
       "(13000, 7)"
      ]
     },
     "execution_count": 28,
     "metadata": {},
     "output_type": "execute_result"
    }
   ],
   "source": [
    "df5.shape\n"
   ]
  },
  {
   "cell_type": "code",
   "execution_count": null,
   "id": "dbee498c",
   "metadata": {},
   "outputs": [
    {
     "data": {
      "text/plain": [
       "(13000, 7)"
      ]
     },
     "execution_count": 29,
     "metadata": {},
     "output_type": "execute_result"
    }
   ],
   "source": [
    "df6 = df5[~(df5.total_sqft/df5.bhk<300)]\n",
    "df6.shape"
   ]
  },
  {
   "cell_type": "code",
   "execution_count": null,
   "id": "ca8dec07",
   "metadata": {},
   "outputs": [
    {
     "data": {
      "text/plain": [
       "count    13000.000000\n",
       "mean      5007.421189\n",
       "std        861.664664\n",
       "min       3500.000000\n",
       "25%       4267.536309\n",
       "50%       5009.431333\n",
       "75%       5753.277672\n",
       "max       6500.000000\n",
       "Name: price_per_sqft, dtype: float64"
      ]
     },
     "execution_count": 30,
     "metadata": {},
     "output_type": "execute_result"
    }
   ],
   "source": [
    "df6.price_per_sqft.describe()\n"
   ]
  },
  {
   "cell_type": "code",
   "execution_count": null,
   "id": "20e01928",
   "metadata": {},
   "outputs": [
    {
     "data": {
      "text/plain": [
       "(7623, 7)"
      ]
     },
     "execution_count": 31,
     "metadata": {},
     "output_type": "execute_result"
    }
   ],
   "source": [
    "\n",
    "def remove_pps_outliers(df):\n",
    "    df_out = pd.DataFrame()\n",
    "    for key, subdf in df.groupby('location'):\n",
    "        m = np.mean(subdf.price_per_sqft)\n",
    "        st = np.std(subdf.price_per_sqft)\n",
    "        reduced_df = subdf[(subdf.price_per_sqft>(m-st)) & (subdf.price_per_sqft<=(m+st))]\n",
    "        df_out = pd.concat([df_out,reduced_df],ignore_index=True)\n",
    "    return df_out\n",
    "df7 = remove_pps_outliers(df6)\n",
    "df7.shape"
   ]
  },
  {
   "cell_type": "code",
   "execution_count": null,
   "id": "0b8530f1",
   "metadata": {},
   "outputs": [
    {
     "data": {
      "text/html": [
       "<div>\n",
       "<style scoped>\n",
       "    .dataframe tbody tr th:only-of-type {\n",
       "        vertical-align: middle;\n",
       "    }\n",
       "\n",
       "    .dataframe tbody tr th {\n",
       "        vertical-align: top;\n",
       "    }\n",
       "\n",
       "    .dataframe thead th {\n",
       "        text-align: right;\n",
       "    }\n",
       "</style>\n",
       "<table border=\"1\" class=\"dataframe\">\n",
       "  <thead>\n",
       "    <tr style=\"text-align: right;\">\n",
       "      <th></th>\n",
       "      <th>location</th>\n",
       "      <th>size</th>\n",
       "      <th>total_sqft</th>\n",
       "      <th>bath</th>\n",
       "      <th>price</th>\n",
       "      <th>bhk</th>\n",
       "      <th>price_per_sqft</th>\n",
       "    </tr>\n",
       "  </thead>\n",
       "  <tbody>\n",
       "    <tr>\n",
       "      <th>4413</th>\n",
       "      <td>other</td>\n",
       "      <td>4 BHK</td>\n",
       "      <td>2317</td>\n",
       "      <td>4</td>\n",
       "      <td>119.51</td>\n",
       "      <td>4</td>\n",
       "      <td>5157.962883</td>\n",
       "    </tr>\n",
       "    <tr>\n",
       "      <th>6419</th>\n",
       "      <td>other</td>\n",
       "      <td>5 BHK</td>\n",
       "      <td>3228</td>\n",
       "      <td>2</td>\n",
       "      <td>157.18</td>\n",
       "      <td>5</td>\n",
       "      <td>4869.268897</td>\n",
       "    </tr>\n",
       "    <tr>\n",
       "      <th>1193</th>\n",
       "      <td>Jalna Road Sector 3</td>\n",
       "      <td>4 BHK</td>\n",
       "      <td>2318</td>\n",
       "      <td>2</td>\n",
       "      <td>106.54</td>\n",
       "      <td>4</td>\n",
       "      <td>4596.203624</td>\n",
       "    </tr>\n",
       "    <tr>\n",
       "      <th>4481</th>\n",
       "      <td>other</td>\n",
       "      <td>2 BHK</td>\n",
       "      <td>905</td>\n",
       "      <td>2</td>\n",
       "      <td>43.30</td>\n",
       "      <td>2</td>\n",
       "      <td>4784.530387</td>\n",
       "    </tr>\n",
       "    <tr>\n",
       "      <th>858</th>\n",
       "      <td>Harsul Phase 26</td>\n",
       "      <td>3 Bedroom</td>\n",
       "      <td>1175</td>\n",
       "      <td>4</td>\n",
       "      <td>63.61</td>\n",
       "      <td>3</td>\n",
       "      <td>5413.617021</td>\n",
       "    </tr>\n",
       "    <tr>\n",
       "      <th>4688</th>\n",
       "      <td>other</td>\n",
       "      <td>3 BHK</td>\n",
       "      <td>1315</td>\n",
       "      <td>1</td>\n",
       "      <td>64.17</td>\n",
       "      <td>3</td>\n",
       "      <td>4879.847909</td>\n",
       "    </tr>\n",
       "    <tr>\n",
       "      <th>2586</th>\n",
       "      <td>Shahgunj Extension 41</td>\n",
       "      <td>2 Bedroom</td>\n",
       "      <td>1050</td>\n",
       "      <td>4</td>\n",
       "      <td>47.16</td>\n",
       "      <td>2</td>\n",
       "      <td>4491.428571</td>\n",
       "    </tr>\n",
       "    <tr>\n",
       "      <th>1</th>\n",
       "      <td>Aurangpura Block 39</td>\n",
       "      <td>2 Bedroom</td>\n",
       "      <td>1294</td>\n",
       "      <td>4</td>\n",
       "      <td>56.65</td>\n",
       "      <td>2</td>\n",
       "      <td>4377.897991</td>\n",
       "    </tr>\n",
       "    <tr>\n",
       "      <th>2490</th>\n",
       "      <td>Seven Hills Sector 56</td>\n",
       "      <td>4 BHK</td>\n",
       "      <td>1897</td>\n",
       "      <td>4</td>\n",
       "      <td>96.77</td>\n",
       "      <td>4</td>\n",
       "      <td>5101.212441</td>\n",
       "    </tr>\n",
       "    <tr>\n",
       "      <th>4123</th>\n",
       "      <td>other</td>\n",
       "      <td>2 Bedroom</td>\n",
       "      <td>1203</td>\n",
       "      <td>2</td>\n",
       "      <td>60.85</td>\n",
       "      <td>2</td>\n",
       "      <td>5058.187864</td>\n",
       "    </tr>\n",
       "  </tbody>\n",
       "</table>\n",
       "</div>"
      ],
      "text/plain": [
       "                   location       size  total_sqft  bath   price  bhk  \\\n",
       "4413                  other      4 BHK        2317     4  119.51    4   \n",
       "6419                  other      5 BHK        3228     2  157.18    5   \n",
       "1193    Jalna Road Sector 3      4 BHK        2318     2  106.54    4   \n",
       "4481                  other      2 BHK         905     2   43.30    2   \n",
       "858         Harsul Phase 26  3 Bedroom        1175     4   63.61    3   \n",
       "4688                  other      3 BHK        1315     1   64.17    3   \n",
       "2586  Shahgunj Extension 41  2 Bedroom        1050     4   47.16    2   \n",
       "1       Aurangpura Block 39  2 Bedroom        1294     4   56.65    2   \n",
       "2490  Seven Hills Sector 56      4 BHK        1897     4   96.77    4   \n",
       "4123                  other  2 Bedroom        1203     2   60.85    2   \n",
       "\n",
       "      price_per_sqft  \n",
       "4413     5157.962883  \n",
       "6419     4869.268897  \n",
       "1193     4596.203624  \n",
       "4481     4784.530387  \n",
       "858      5413.617021  \n",
       "4688     4879.847909  \n",
       "2586     4491.428571  \n",
       "1        4377.897991  \n",
       "2490     5101.212441  \n",
       "4123     5058.187864  "
      ]
     },
     "execution_count": 32,
     "metadata": {},
     "output_type": "execute_result"
    }
   ],
   "source": [
    "df7.sample(10)"
   ]
  },
  {
   "cell_type": "code",
   "execution_count": null,
   "id": "859c9ec4",
   "metadata": {},
   "outputs": [
    {
     "data": {
      "text/plain": [
       "(5784, 7)"
      ]
     },
     "execution_count": 33,
     "metadata": {},
     "output_type": "execute_result"
    }
   ],
   "source": [
    "def remove_bhk_outliers(df):\n",
    "    exclude_indices = np.array([])\n",
    "    for location, location_df in df.groupby('location'):\n",
    "        bhk_stats = {}\n",
    "        for bhk, bhk_df in location_df.groupby('bhk'):\n",
    "            bhk_stats[bhk] = {\n",
    "                'mean': np.mean(bhk_df.price_per_sqft),\n",
    "                'std': np.std(bhk_df.price_per_sqft),\n",
    "                'count': bhk_df.shape[0]\n",
    "            }\n",
    "        for bhk, bhk_df in location_df.groupby('bhk'):\n",
    "            stats = bhk_stats.get(bhk-1)\n",
    "            if stats and stats['count']>5:\n",
    "                exclude_indices = np.append(exclude_indices, bhk_df[bhk_df.price_per_sqft<(stats['mean'])].index.values)\n",
    "    return df.drop(exclude_indices,axis='index')\n",
    "df8 = remove_bhk_outliers(df7)\n",
    "# df8 = df7.copy()\n",
    "df8.shape\n"
   ]
  },
  {
   "cell_type": "code",
   "execution_count": null,
   "id": "81d17eae",
   "metadata": {},
   "outputs": [
    {
     "data": {
      "text/plain": [
       "array([2, 4, 1, 5, 3], dtype=int64)"
      ]
     },
     "execution_count": 34,
     "metadata": {},
     "output_type": "execute_result"
    }
   ],
   "source": [
    "df8.bath.unique()"
   ]
  },
  {
   "cell_type": "code",
   "execution_count": null,
   "id": "709a52a8",
   "metadata": {},
   "outputs": [
    {
     "data": {
      "text/html": [
       "<div>\n",
       "<style scoped>\n",
       "    .dataframe tbody tr th:only-of-type {\n",
       "        vertical-align: middle;\n",
       "    }\n",
       "\n",
       "    .dataframe tbody tr th {\n",
       "        vertical-align: top;\n",
       "    }\n",
       "\n",
       "    .dataframe thead th {\n",
       "        text-align: right;\n",
       "    }\n",
       "</style>\n",
       "<table border=\"1\" class=\"dataframe\">\n",
       "  <thead>\n",
       "    <tr style=\"text-align: right;\">\n",
       "      <th></th>\n",
       "      <th>location</th>\n",
       "      <th>size</th>\n",
       "      <th>total_sqft</th>\n",
       "      <th>bath</th>\n",
       "      <th>price</th>\n",
       "      <th>bhk</th>\n",
       "      <th>price_per_sqft</th>\n",
       "    </tr>\n",
       "  </thead>\n",
       "  <tbody>\n",
       "  </tbody>\n",
       "</table>\n",
       "</div>"
      ],
      "text/plain": [
       "Empty DataFrame\n",
       "Columns: [location, size, total_sqft, bath, price, bhk, price_per_sqft]\n",
       "Index: []"
      ]
     },
     "execution_count": 35,
     "metadata": {},
     "output_type": "execute_result"
    }
   ],
   "source": [
    "df8[df8.bath>10]"
   ]
  },
  {
   "cell_type": "code",
   "execution_count": null,
   "id": "da8635e1",
   "metadata": {},
   "outputs": [
    {
     "data": {
      "text/plain": [
       "Text(0, 0.5, 'Count')"
      ]
     },
     "execution_count": 36,
     "metadata": {},
     "output_type": "execute_result"
    },
    {
     "data": {
      "image/png": "[encoded data removed]",
      "text/plain": [
       "<Figure size 2000x1000 with 1 Axes>"
      ]
     },
     "metadata": {},
     "output_type": "display_data"
    }
   ],
   "source": [
    "plt.hist(df8.bath,rwidth=0.8)\n",
    "plt.xlabel(\"Number of bathrooms\")\n",
    "plt.ylabel(\"Count\")"
   ]
  },
  {
   "cell_type": "code",
   "execution_count": null,
   "id": "7dfb0a20",
   "metadata": {},
   "outputs": [
    {
     "data": {
      "text/html": [
       "<div>\n",
       "<style scoped>\n",
       "    .dataframe tbody tr th:only-of-type {\n",
       "        vertical-align: middle;\n",
       "    }\n",
       "\n",
       "    .dataframe tbody tr th {\n",
       "        vertical-align: top;\n",
       "    }\n",
       "\n",
       "    .dataframe thead th {\n",
       "        text-align: right;\n",
       "    }\n",
       "</style>\n",
       "<table border=\"1\" class=\"dataframe\">\n",
       "  <thead>\n",
       "    <tr style=\"text-align: right;\">\n",
       "      <th></th>\n",
       "      <th>location</th>\n",
       "      <th>size</th>\n",
       "      <th>total_sqft</th>\n",
       "      <th>bath</th>\n",
       "      <th>price</th>\n",
       "      <th>bhk</th>\n",
       "      <th>price_per_sqft</th>\n",
       "    </tr>\n",
       "  </thead>\n",
       "  <tbody>\n",
       "    <tr>\n",
       "      <th>8</th>\n",
       "      <td>Aurangpura Block 50</td>\n",
       "      <td>2 BHK</td>\n",
       "      <td>1283</td>\n",
       "      <td>5</td>\n",
       "      <td>56.06</td>\n",
       "      <td>2</td>\n",
       "      <td>4369.446610</td>\n",
       "    </tr>\n",
       "    <tr>\n",
       "      <th>20</th>\n",
       "      <td>Aurangpura Central 26</td>\n",
       "      <td>1 BHK</td>\n",
       "      <td>784</td>\n",
       "      <td>4</td>\n",
       "      <td>37.24</td>\n",
       "      <td>1</td>\n",
       "      <td>4750.000000</td>\n",
       "    </tr>\n",
       "    <tr>\n",
       "      <th>28</th>\n",
       "      <td>Aurangpura Central 58</td>\n",
       "      <td>1 BHK</td>\n",
       "      <td>628</td>\n",
       "      <td>4</td>\n",
       "      <td>25.68</td>\n",
       "      <td>1</td>\n",
       "      <td>4089.171975</td>\n",
       "    </tr>\n",
       "    <tr>\n",
       "      <th>45</th>\n",
       "      <td>Aurangpura Central 9</td>\n",
       "      <td>2 Bedroom</td>\n",
       "      <td>721</td>\n",
       "      <td>5</td>\n",
       "      <td>30.87</td>\n",
       "      <td>2</td>\n",
       "      <td>4281.553398</td>\n",
       "    </tr>\n",
       "    <tr>\n",
       "      <th>46</th>\n",
       "      <td>Aurangpura Central 9</td>\n",
       "      <td>1 BHK</td>\n",
       "      <td>632</td>\n",
       "      <td>5</td>\n",
       "      <td>32.25</td>\n",
       "      <td>1</td>\n",
       "      <td>5102.848101</td>\n",
       "    </tr>\n",
       "    <tr>\n",
       "      <th>...</th>\n",
       "      <td>...</td>\n",
       "      <td>...</td>\n",
       "      <td>...</td>\n",
       "      <td>...</td>\n",
       "      <td>...</td>\n",
       "      <td>...</td>\n",
       "      <td>...</td>\n",
       "    </tr>\n",
       "    <tr>\n",
       "      <th>7567</th>\n",
       "      <td>other</td>\n",
       "      <td>1 BHK</td>\n",
       "      <td>496</td>\n",
       "      <td>5</td>\n",
       "      <td>26.13</td>\n",
       "      <td>1</td>\n",
       "      <td>5268.145161</td>\n",
       "    </tr>\n",
       "    <tr>\n",
       "      <th>7576</th>\n",
       "      <td>other</td>\n",
       "      <td>1 BHK</td>\n",
       "      <td>752</td>\n",
       "      <td>5</td>\n",
       "      <td>39.68</td>\n",
       "      <td>1</td>\n",
       "      <td>5276.595745</td>\n",
       "    </tr>\n",
       "    <tr>\n",
       "      <th>7597</th>\n",
       "      <td>other</td>\n",
       "      <td>1 BHK</td>\n",
       "      <td>426</td>\n",
       "      <td>5</td>\n",
       "      <td>17.72</td>\n",
       "      <td>1</td>\n",
       "      <td>4159.624413</td>\n",
       "    </tr>\n",
       "    <tr>\n",
       "      <th>7603</th>\n",
       "      <td>other</td>\n",
       "      <td>1 BHK</td>\n",
       "      <td>646</td>\n",
       "      <td>4</td>\n",
       "      <td>36.53</td>\n",
       "      <td>1</td>\n",
       "      <td>5654.798762</td>\n",
       "    </tr>\n",
       "    <tr>\n",
       "      <th>7606</th>\n",
       "      <td>other</td>\n",
       "      <td>1 BHK</td>\n",
       "      <td>568</td>\n",
       "      <td>4</td>\n",
       "      <td>24.54</td>\n",
       "      <td>1</td>\n",
       "      <td>4320.422535</td>\n",
       "    </tr>\n",
       "  </tbody>\n",
       "</table>\n",
       "<p>701 rows × 7 columns</p>\n",
       "</div>"
      ],
      "text/plain": [
       "                   location       size  total_sqft  bath  price  bhk  \\\n",
       "8       Aurangpura Block 50      2 BHK        1283     5  56.06    2   \n",
       "20    Aurangpura Central 26      1 BHK         784     4  37.24    1   \n",
       "28    Aurangpura Central 58      1 BHK         628     4  25.68    1   \n",
       "45     Aurangpura Central 9  2 Bedroom         721     5  30.87    2   \n",
       "46     Aurangpura Central 9      1 BHK         632     5  32.25    1   \n",
       "...                     ...        ...         ...   ...    ...  ...   \n",
       "7567                  other      1 BHK         496     5  26.13    1   \n",
       "7576                  other      1 BHK         752     5  39.68    1   \n",
       "7597                  other      1 BHK         426     5  17.72    1   \n",
       "7603                  other      1 BHK         646     4  36.53    1   \n",
       "7606                  other      1 BHK         568     4  24.54    1   \n",
       "\n",
       "      price_per_sqft  \n",
       "8        4369.446610  \n",
       "20       4750.000000  \n",
       "28       4089.171975  \n",
       "45       4281.553398  \n",
       "46       5102.848101  \n",
       "...              ...  \n",
       "7567     5268.145161  \n",
       "7576     5276.595745  \n",
       "7597     4159.624413  \n",
       "7603     5654.798762  \n",
       "7606     4320.422535  \n",
       "\n",
       "[701 rows x 7 columns]"
      ]
     },
     "execution_count": 37,
     "metadata": {},
     "output_type": "execute_result"
    }
   ],
   "source": [
    "df8[df8.bath>df8.bhk+2]"
   ]
  },
  {
   "cell_type": "code",
   "execution_count": null,
   "id": "84626306",
   "metadata": {},
   "outputs": [
    {
     "data": {
      "text/plain": [
       "(4223, 7)"
      ]
     },
     "execution_count": 38,
     "metadata": {},
     "output_type": "execute_result"
    }
   ],
   "source": [
    "df9 = df8[df8.bath<df8.bhk+2]\n",
    "df9.shape"
   ]
  },
  {
   "cell_type": "code",
   "execution_count": null,
   "id": "d9668bfe",
   "metadata": {},
   "outputs": [
    {
     "data": {
      "text/html": [
       "<div>\n",
       "<style scoped>\n",
       "    .dataframe tbody tr th:only-of-type {\n",
       "        vertical-align: middle;\n",
       "    }\n",
       "\n",
       "    .dataframe tbody tr th {\n",
       "        vertical-align: top;\n",
       "    }\n",
       "\n",
       "    .dataframe thead th {\n",
       "        text-align: right;\n",
       "    }\n",
       "</style>\n",
       "<table border=\"1\" class=\"dataframe\">\n",
       "  <thead>\n",
       "    <tr style=\"text-align: right;\">\n",
       "      <th></th>\n",
       "      <th>location</th>\n",
       "      <th>total_sqft</th>\n",
       "      <th>bath</th>\n",
       "      <th>price</th>\n",
       "      <th>bhk</th>\n",
       "    </tr>\n",
       "  </thead>\n",
       "  <tbody>\n",
       "    <tr>\n",
       "      <th>0</th>\n",
       "      <td>Aurangpura Block 39</td>\n",
       "      <td>1264</td>\n",
       "      <td>2</td>\n",
       "      <td>57.60</td>\n",
       "      <td>2</td>\n",
       "    </tr>\n",
       "    <tr>\n",
       "      <th>2</th>\n",
       "      <td>Aurangpura Block 39</td>\n",
       "      <td>1768</td>\n",
       "      <td>1</td>\n",
       "      <td>87.43</td>\n",
       "      <td>4</td>\n",
       "    </tr>\n",
       "    <tr>\n",
       "      <th>3</th>\n",
       "      <td>Aurangpura Block 39</td>\n",
       "      <td>1106</td>\n",
       "      <td>1</td>\n",
       "      <td>51.40</td>\n",
       "      <td>3</td>\n",
       "    </tr>\n",
       "  </tbody>\n",
       "</table>\n",
       "</div>"
      ],
      "text/plain": [
       "              location  total_sqft  bath  price  bhk\n",
       "0  Aurangpura Block 39        1264     2  57.60    2\n",
       "2  Aurangpura Block 39        1768     1  87.43    4\n",
       "3  Aurangpura Block 39        1106     1  51.40    3"
      ]
     },
     "execution_count": 39,
     "metadata": {},
     "output_type": "execute_result"
    }
   ],
   "source": [
    "df10 = df9.drop(['size','price_per_sqft'],axis='columns')\n",
    "df10.head(3)"
   ]
  },
  {
   "cell_type": "code",
   "execution_count": null,
   "id": "8bb60a7c",
   "metadata": {},
   "outputs": [],
   "source": [
    "df10.to_csv('cleaned_data.csv', index=False)\n"
   ]
  },
  {
   "cell_type": "code",
   "execution_count": null,
   "id": "5b9ca38d",
   "metadata": {},
   "outputs": [
    {
     "data": {
      "text/html": [
       "<div>\n",
       "<style scoped>\n",
       "    .dataframe tbody tr th:only-of-type {\n",
       "        vertical-align: middle;\n",
       "    }\n",
       "\n",
       "    .dataframe tbody tr th {\n",
       "        vertical-align: top;\n",
       "    }\n",
       "\n",
       "    .dataframe thead th {\n",
       "        text-align: right;\n",
       "    }\n",
       "</style>\n",
       "<table border=\"1\" class=\"dataframe\">\n",
       "  <thead>\n",
       "    <tr style=\"text-align: right;\">\n",
       "      <th></th>\n",
       "      <th>Aurangpura Block 39</th>\n",
       "      <th>Aurangpura Block 50</th>\n",
       "      <th>Aurangpura Central 26</th>\n",
       "      <th>Aurangpura Central 58</th>\n",
       "      <th>Aurangpura Central 59</th>\n",
       "      <th>Aurangpura Central 9</th>\n",
       "      <th>Aurangpura East 13</th>\n",
       "      <th>Aurangpura East 37</th>\n",
       "      <th>Aurangpura Enclave 46</th>\n",
       "      <th>Aurangpura Enclave 51</th>\n",
       "      <th>...</th>\n",
       "      <th>Waluj MIDC North 48</th>\n",
       "      <th>Waluj MIDC Phase 2</th>\n",
       "      <th>Waluj MIDC Phase 55</th>\n",
       "      <th>Waluj MIDC Sector 14</th>\n",
       "      <th>Waluj MIDC Sector 17</th>\n",
       "      <th>Waluj MIDC Sector 43</th>\n",
       "      <th>Waluj MIDC Sector 49</th>\n",
       "      <th>Waluj MIDC South 18</th>\n",
       "      <th>Waluj MIDC West 19</th>\n",
       "      <th>other</th>\n",
       "    </tr>\n",
       "  </thead>\n",
       "  <tbody>\n",
       "    <tr>\n",
       "      <th>0</th>\n",
       "      <td>1</td>\n",
       "      <td>0</td>\n",
       "      <td>0</td>\n",
       "      <td>0</td>\n",
       "      <td>0</td>\n",
       "      <td>0</td>\n",
       "      <td>0</td>\n",
       "      <td>0</td>\n",
       "      <td>0</td>\n",
       "      <td>0</td>\n",
       "      <td>...</td>\n",
       "      <td>0</td>\n",
       "      <td>0</td>\n",
       "      <td>0</td>\n",
       "      <td>0</td>\n",
       "      <td>0</td>\n",
       "      <td>0</td>\n",
       "      <td>0</td>\n",
       "      <td>0</td>\n",
       "      <td>0</td>\n",
       "      <td>0</td>\n",
       "    </tr>\n",
       "    <tr>\n",
       "      <th>2</th>\n",
       "      <td>1</td>\n",
       "      <td>0</td>\n",
       "      <td>0</td>\n",
       "      <td>0</td>\n",
       "      <td>0</td>\n",
       "      <td>0</td>\n",
       "      <td>0</td>\n",
       "      <td>0</td>\n",
       "      <td>0</td>\n",
       "      <td>0</td>\n",
       "      <td>...</td>\n",
       "      <td>0</td>\n",
       "      <td>0</td>\n",
       "      <td>0</td>\n",
       "      <td>0</td>\n",
       "      <td>0</td>\n",
       "      <td>0</td>\n",
       "      <td>0</td>\n",
       "      <td>0</td>\n",
       "      <td>0</td>\n",
       "      <td>0</td>\n",
       "    </tr>\n",
       "    <tr>\n",
       "      <th>3</th>\n",
       "      <td>1</td>\n",
       "      <td>0</td>\n",
       "      <td>0</td>\n",
       "      <td>0</td>\n",
       "      <td>0</td>\n",
       "      <td>0</td>\n",
       "      <td>0</td>\n",
       "      <td>0</td>\n",
       "      <td>0</td>\n",
       "      <td>0</td>\n",
       "      <td>...</td>\n",
       "      <td>0</td>\n",
       "      <td>0</td>\n",
       "      <td>0</td>\n",
       "      <td>0</td>\n",
       "      <td>0</td>\n",
       "      <td>0</td>\n",
       "      <td>0</td>\n",
       "      <td>0</td>\n",
       "      <td>0</td>\n",
       "      <td>0</td>\n",
       "    </tr>\n",
       "  </tbody>\n",
       "</table>\n",
       "<p>3 rows × 460 columns</p>\n",
       "</div>"
      ],
      "text/plain": [
       "   Aurangpura Block 39  Aurangpura Block 50  Aurangpura Central 26  \\\n",
       "0                    1                    0                      0   \n",
       "2                    1                    0                      0   \n",
       "3                    1                    0                      0   \n",
       "\n",
       "   Aurangpura Central 58  Aurangpura Central 59  Aurangpura Central 9  \\\n",
       "0                      0                      0                     0   \n",
       "2                      0                      0                     0   \n",
       "3                      0                      0                     0   \n",
       "\n",
       "   Aurangpura East 13  Aurangpura East 37  Aurangpura Enclave 46  \\\n",
       "0                   0                   0                      0   \n",
       "2                   0                   0                      0   \n",
       "3                   0                   0                      0   \n",
       "\n",
       "   Aurangpura Enclave 51  ...  Waluj MIDC North 48  Waluj MIDC Phase 2  \\\n",
       "0                      0  ...                    0                   0   \n",
       "2                      0  ...                    0                   0   \n",
       "3                      0  ...                    0                   0   \n",
       "\n",
       "   Waluj MIDC Phase 55  Waluj MIDC Sector 14  Waluj MIDC Sector 17  \\\n",
       "0                    0                     0                     0   \n",
       "2                    0                     0                     0   \n",
       "3                    0                     0                     0   \n",
       "\n",
       "   Waluj MIDC Sector 43  Waluj MIDC Sector 49  Waluj MIDC South 18  \\\n",
       "0                     0                     0                    0   \n",
       "2                     0                     0                    0   \n",
       "3                     0                     0                    0   \n",
       "\n",
       "   Waluj MIDC West 19  other  \n",
       "0                   0      0  \n",
       "2                   0      0  \n",
       "3                   0      0  \n",
       "\n",
       "[3 rows x 460 columns]"
      ]
     },
     "execution_count": 41,
     "metadata": {},
     "output_type": "execute_result"
    }
   ],
   "source": [
    "dummies = pd.get_dummies(df10.location)\n",
    "dummies.head(3)"
   ]
  },
  {
   "cell_type": "code",
   "execution_count": null,
   "id": "60020c90",
   "metadata": {},
   "outputs": [
    {
     "data": {
      "text/html": [
       "<div>\n",
       "<style scoped>\n",
       "    .dataframe tbody tr th:only-of-type {\n",
       "        vertical-align: middle;\n",
       "    }\n",
       "\n",
       "    .dataframe tbody tr th {\n",
       "        vertical-align: top;\n",
       "    }\n",
       "\n",
       "    .dataframe thead th {\n",
       "        text-align: right;\n",
       "    }\n",
       "</style>\n",
       "<table border=\"1\" class=\"dataframe\">\n",
       "  <thead>\n",
       "    <tr style=\"text-align: right;\">\n",
       "      <th></th>\n",
       "      <th>location</th>\n",
       "      <th>total_sqft</th>\n",
       "      <th>bath</th>\n",
       "      <th>price</th>\n",
       "      <th>bhk</th>\n",
       "      <th>Aurangpura Block 39</th>\n",
       "      <th>Aurangpura Block 50</th>\n",
       "      <th>Aurangpura Central 26</th>\n",
       "      <th>Aurangpura Central 58</th>\n",
       "      <th>Aurangpura Central 59</th>\n",
       "      <th>...</th>\n",
       "      <th>Waluj MIDC North 15</th>\n",
       "      <th>Waluj MIDC North 48</th>\n",
       "      <th>Waluj MIDC Phase 2</th>\n",
       "      <th>Waluj MIDC Phase 55</th>\n",
       "      <th>Waluj MIDC Sector 14</th>\n",
       "      <th>Waluj MIDC Sector 17</th>\n",
       "      <th>Waluj MIDC Sector 43</th>\n",
       "      <th>Waluj MIDC Sector 49</th>\n",
       "      <th>Waluj MIDC South 18</th>\n",
       "      <th>Waluj MIDC West 19</th>\n",
       "    </tr>\n",
       "  </thead>\n",
       "  <tbody>\n",
       "    <tr>\n",
       "      <th>0</th>\n",
       "      <td>Aurangpura Block 39</td>\n",
       "      <td>1264</td>\n",
       "      <td>2</td>\n",
       "      <td>57.60</td>\n",
       "      <td>2</td>\n",
       "      <td>1</td>\n",
       "      <td>0</td>\n",
       "      <td>0</td>\n",
       "      <td>0</td>\n",
       "      <td>0</td>\n",
       "      <td>...</td>\n",
       "      <td>0</td>\n",
       "      <td>0</td>\n",
       "      <td>0</td>\n",
       "      <td>0</td>\n",
       "      <td>0</td>\n",
       "      <td>0</td>\n",
       "      <td>0</td>\n",
       "      <td>0</td>\n",
       "      <td>0</td>\n",
       "      <td>0</td>\n",
       "    </tr>\n",
       "    <tr>\n",
       "      <th>2</th>\n",
       "      <td>Aurangpura Block 39</td>\n",
       "      <td>1768</td>\n",
       "      <td>1</td>\n",
       "      <td>87.43</td>\n",
       "      <td>4</td>\n",
       "      <td>1</td>\n",
       "      <td>0</td>\n",
       "      <td>0</td>\n",
       "      <td>0</td>\n",
       "      <td>0</td>\n",
       "      <td>...</td>\n",
       "      <td>0</td>\n",
       "      <td>0</td>\n",
       "      <td>0</td>\n",
       "      <td>0</td>\n",
       "      <td>0</td>\n",
       "      <td>0</td>\n",
       "      <td>0</td>\n",
       "      <td>0</td>\n",
       "      <td>0</td>\n",
       "      <td>0</td>\n",
       "    </tr>\n",
       "    <tr>\n",
       "      <th>3</th>\n",
       "      <td>Aurangpura Block 39</td>\n",
       "      <td>1106</td>\n",
       "      <td>1</td>\n",
       "      <td>51.40</td>\n",
       "      <td>3</td>\n",
       "      <td>1</td>\n",
       "      <td>0</td>\n",
       "      <td>0</td>\n",
       "      <td>0</td>\n",
       "      <td>0</td>\n",
       "      <td>...</td>\n",
       "      <td>0</td>\n",
       "      <td>0</td>\n",
       "      <td>0</td>\n",
       "      <td>0</td>\n",
       "      <td>0</td>\n",
       "      <td>0</td>\n",
       "      <td>0</td>\n",
       "      <td>0</td>\n",
       "      <td>0</td>\n",
       "      <td>0</td>\n",
       "    </tr>\n",
       "  </tbody>\n",
       "</table>\n",
       "<p>3 rows × 464 columns</p>\n",
       "</div>"
      ],
      "text/plain": [
       "              location  total_sqft  bath  price  bhk  Aurangpura Block 39  \\\n",
       "0  Aurangpura Block 39        1264     2  57.60    2                    1   \n",
       "2  Aurangpura Block 39        1768     1  87.43    4                    1   \n",
       "3  Aurangpura Block 39        1106     1  51.40    3                    1   \n",
       "\n",
       "   Aurangpura Block 50  Aurangpura Central 26  Aurangpura Central 58  \\\n",
       "0                    0                      0                      0   \n",
       "2                    0                      0                      0   \n",
       "3                    0                      0                      0   \n",
       "\n",
       "   Aurangpura Central 59  ...  Waluj MIDC North 15  Waluj MIDC North 48  \\\n",
       "0                      0  ...                    0                    0   \n",
       "2                      0  ...                    0                    0   \n",
       "3                      0  ...                    0                    0   \n",
       "\n",
       "   Waluj MIDC Phase 2  Waluj MIDC Phase 55  Waluj MIDC Sector 14  \\\n",
       "0                   0                    0                     0   \n",
       "2                   0                    0                     0   \n",
       "3                   0                    0                     0   \n",
       "\n",
       "   Waluj MIDC Sector 17  Waluj MIDC Sector 43  Waluj MIDC Sector 49  \\\n",
       "0                     0                     0                     0   \n",
       "2                     0                     0                     0   \n",
       "3                     0                     0                     0   \n",
       "\n",
       "   Waluj MIDC South 18  Waluj MIDC West 19  \n",
       "0                    0                   0  \n",
       "2                    0                   0  \n",
       "3                    0                   0  \n",
       "\n",
       "[3 rows x 464 columns]"
      ]
     },
     "execution_count": 42,
     "metadata": {},
     "output_type": "execute_result"
    }
   ],
   "source": [
    "df11 = pd.concat([df10,dummies.drop('other',axis='columns')],axis='columns')\n",
    "df11.head(3)"
   ]
  },
  {
   "cell_type": "code",
   "execution_count": null,
   "id": "740a1965",
   "metadata": {},
   "outputs": [
    {
     "data": {
      "text/html": [
       "<div>\n",
       "<style scoped>\n",
       "    .dataframe tbody tr th:only-of-type {\n",
       "        vertical-align: middle;\n",
       "    }\n",
       "\n",
       "    .dataframe tbody tr th {\n",
       "        vertical-align: top;\n",
       "    }\n",
       "\n",
       "    .dataframe thead th {\n",
       "        text-align: right;\n",
       "    }\n",
       "</style>\n",
       "<table border=\"1\" class=\"dataframe\">\n",
       "  <thead>\n",
       "    <tr style=\"text-align: right;\">\n",
       "      <th></th>\n",
       "      <th>total_sqft</th>\n",
       "      <th>bath</th>\n",
       "      <th>price</th>\n",
       "      <th>bhk</th>\n",
       "      <th>Aurangpura Block 39</th>\n",
       "      <th>Aurangpura Block 50</th>\n",
       "      <th>Aurangpura Central 26</th>\n",
       "      <th>Aurangpura Central 58</th>\n",
       "      <th>Aurangpura Central 59</th>\n",
       "      <th>Aurangpura Central 9</th>\n",
       "      <th>...</th>\n",
       "      <th>Waluj MIDC North 15</th>\n",
       "      <th>Waluj MIDC North 48</th>\n",
       "      <th>Waluj MIDC Phase 2</th>\n",
       "      <th>Waluj MIDC Phase 55</th>\n",
       "      <th>Waluj MIDC Sector 14</th>\n",
       "      <th>Waluj MIDC Sector 17</th>\n",
       "      <th>Waluj MIDC Sector 43</th>\n",
       "      <th>Waluj MIDC Sector 49</th>\n",
       "      <th>Waluj MIDC South 18</th>\n",
       "      <th>Waluj MIDC West 19</th>\n",
       "    </tr>\n",
       "  </thead>\n",
       "  <tbody>\n",
       "    <tr>\n",
       "      <th>0</th>\n",
       "      <td>1264</td>\n",
       "      <td>2</td>\n",
       "      <td>57.60</td>\n",
       "      <td>2</td>\n",
       "      <td>1</td>\n",
       "      <td>0</td>\n",
       "      <td>0</td>\n",
       "      <td>0</td>\n",
       "      <td>0</td>\n",
       "      <td>0</td>\n",
       "      <td>...</td>\n",
       "      <td>0</td>\n",
       "      <td>0</td>\n",
       "      <td>0</td>\n",
       "      <td>0</td>\n",
       "      <td>0</td>\n",
       "      <td>0</td>\n",
       "      <td>0</td>\n",
       "      <td>0</td>\n",
       "      <td>0</td>\n",
       "      <td>0</td>\n",
       "    </tr>\n",
       "    <tr>\n",
       "      <th>2</th>\n",
       "      <td>1768</td>\n",
       "      <td>1</td>\n",
       "      <td>87.43</td>\n",
       "      <td>4</td>\n",
       "      <td>1</td>\n",
       "      <td>0</td>\n",
       "      <td>0</td>\n",
       "      <td>0</td>\n",
       "      <td>0</td>\n",
       "      <td>0</td>\n",
       "      <td>...</td>\n",
       "      <td>0</td>\n",
       "      <td>0</td>\n",
       "      <td>0</td>\n",
       "      <td>0</td>\n",
       "      <td>0</td>\n",
       "      <td>0</td>\n",
       "      <td>0</td>\n",
       "      <td>0</td>\n",
       "      <td>0</td>\n",
       "      <td>0</td>\n",
       "    </tr>\n",
       "  </tbody>\n",
       "</table>\n",
       "<p>2 rows × 463 columns</p>\n",
       "</div>"
      ],
      "text/plain": [
       "   total_sqft  bath  price  bhk  Aurangpura Block 39  Aurangpura Block 50  \\\n",
       "0        1264     2  57.60    2                    1                    0   \n",
       "2        1768     1  87.43    4                    1                    0   \n",
       "\n",
       "   Aurangpura Central 26  Aurangpura Central 58  Aurangpura Central 59  \\\n",
       "0                      0                      0                      0   \n",
       "2                      0                      0                      0   \n",
       "\n",
       "   Aurangpura Central 9  ...  Waluj MIDC North 15  Waluj MIDC North 48  \\\n",
       "0                     0  ...                    0                    0   \n",
       "2                     0  ...                    0                    0   \n",
       "\n",
       "   Waluj MIDC Phase 2  Waluj MIDC Phase 55  Waluj MIDC Sector 14  \\\n",
       "0                   0                    0                     0   \n",
       "2                   0                    0                     0   \n",
       "\n",
       "   Waluj MIDC Sector 17  Waluj MIDC Sector 43  Waluj MIDC Sector 49  \\\n",
       "0                     0                     0                     0   \n",
       "2                     0                     0                     0   \n",
       "\n",
       "   Waluj MIDC South 18  Waluj MIDC West 19  \n",
       "0                    0                   0  \n",
       "2                    0                   0  \n",
       "\n",
       "[2 rows x 463 columns]"
      ]
     },
     "execution_count": 43,
     "metadata": {},
     "output_type": "execute_result"
    }
   ],
   "source": [
    "df12 = df11.drop('location',axis='columns')\n",
    "df12.head(2)"
   ]
  },
  {
   "cell_type": "code",
   "execution_count": null,
   "id": "3b7fd6f9",
   "metadata": {},
   "outputs": [
    {
     "data": {
      "text/plain": [
       "(4223, 463)"
      ]
     },
     "execution_count": 44,
     "metadata": {},
     "output_type": "execute_result"
    }
   ],
   "source": [
    "df12.shape"
   ]
  },
  {
   "cell_type": "code",
   "execution_count": null,
   "id": "65fe7580",
   "metadata": {},
   "outputs": [
    {
     "data": {
      "text/html": [
       "<div>\n",
       "<style scoped>\n",
       "    .dataframe tbody tr th:only-of-type {\n",
       "        vertical-align: middle;\n",
       "    }\n",
       "\n",
       "    .dataframe tbody tr th {\n",
       "        vertical-align: top;\n",
       "    }\n",
       "\n",
       "    .dataframe thead th {\n",
       "        text-align: right;\n",
       "    }\n",
       "</style>\n",
       "<table border=\"1\" class=\"dataframe\">\n",
       "  <thead>\n",
       "    <tr style=\"text-align: right;\">\n",
       "      <th></th>\n",
       "      <th>total_sqft</th>\n",
       "      <th>bath</th>\n",
       "      <th>bhk</th>\n",
       "      <th>Aurangpura Block 39</th>\n",
       "      <th>Aurangpura Block 50</th>\n",
       "      <th>Aurangpura Central 26</th>\n",
       "      <th>Aurangpura Central 58</th>\n",
       "      <th>Aurangpura Central 59</th>\n",
       "      <th>Aurangpura Central 9</th>\n",
       "      <th>Aurangpura East 13</th>\n",
       "      <th>...</th>\n",
       "      <th>Waluj MIDC North 15</th>\n",
       "      <th>Waluj MIDC North 48</th>\n",
       "      <th>Waluj MIDC Phase 2</th>\n",
       "      <th>Waluj MIDC Phase 55</th>\n",
       "      <th>Waluj MIDC Sector 14</th>\n",
       "      <th>Waluj MIDC Sector 17</th>\n",
       "      <th>Waluj MIDC Sector 43</th>\n",
       "      <th>Waluj MIDC Sector 49</th>\n",
       "      <th>Waluj MIDC South 18</th>\n",
       "      <th>Waluj MIDC West 19</th>\n",
       "    </tr>\n",
       "  </thead>\n",
       "  <tbody>\n",
       "    <tr>\n",
       "      <th>0</th>\n",
       "      <td>1264</td>\n",
       "      <td>2</td>\n",
       "      <td>2</td>\n",
       "      <td>1</td>\n",
       "      <td>0</td>\n",
       "      <td>0</td>\n",
       "      <td>0</td>\n",
       "      <td>0</td>\n",
       "      <td>0</td>\n",
       "      <td>0</td>\n",
       "      <td>...</td>\n",
       "      <td>0</td>\n",
       "      <td>0</td>\n",
       "      <td>0</td>\n",
       "      <td>0</td>\n",
       "      <td>0</td>\n",
       "      <td>0</td>\n",
       "      <td>0</td>\n",
       "      <td>0</td>\n",
       "      <td>0</td>\n",
       "      <td>0</td>\n",
       "    </tr>\n",
       "    <tr>\n",
       "      <th>2</th>\n",
       "      <td>1768</td>\n",
       "      <td>1</td>\n",
       "      <td>4</td>\n",
       "      <td>1</td>\n",
       "      <td>0</td>\n",
       "      <td>0</td>\n",
       "      <td>0</td>\n",
       "      <td>0</td>\n",
       "      <td>0</td>\n",
       "      <td>0</td>\n",
       "      <td>...</td>\n",
       "      <td>0</td>\n",
       "      <td>0</td>\n",
       "      <td>0</td>\n",
       "      <td>0</td>\n",
       "      <td>0</td>\n",
       "      <td>0</td>\n",
       "      <td>0</td>\n",
       "      <td>0</td>\n",
       "      <td>0</td>\n",
       "      <td>0</td>\n",
       "    </tr>\n",
       "    <tr>\n",
       "      <th>3</th>\n",
       "      <td>1106</td>\n",
       "      <td>1</td>\n",
       "      <td>3</td>\n",
       "      <td>1</td>\n",
       "      <td>0</td>\n",
       "      <td>0</td>\n",
       "      <td>0</td>\n",
       "      <td>0</td>\n",
       "      <td>0</td>\n",
       "      <td>0</td>\n",
       "      <td>...</td>\n",
       "      <td>0</td>\n",
       "      <td>0</td>\n",
       "      <td>0</td>\n",
       "      <td>0</td>\n",
       "      <td>0</td>\n",
       "      <td>0</td>\n",
       "      <td>0</td>\n",
       "      <td>0</td>\n",
       "      <td>0</td>\n",
       "      <td>0</td>\n",
       "    </tr>\n",
       "    <tr>\n",
       "      <th>4</th>\n",
       "      <td>1727</td>\n",
       "      <td>1</td>\n",
       "      <td>4</td>\n",
       "      <td>1</td>\n",
       "      <td>0</td>\n",
       "      <td>0</td>\n",
       "      <td>0</td>\n",
       "      <td>0</td>\n",
       "      <td>0</td>\n",
       "      <td>0</td>\n",
       "      <td>...</td>\n",
       "      <td>0</td>\n",
       "      <td>0</td>\n",
       "      <td>0</td>\n",
       "      <td>0</td>\n",
       "      <td>0</td>\n",
       "      <td>0</td>\n",
       "      <td>0</td>\n",
       "      <td>0</td>\n",
       "      <td>0</td>\n",
       "      <td>0</td>\n",
       "    </tr>\n",
       "    <tr>\n",
       "      <th>5</th>\n",
       "      <td>2667</td>\n",
       "      <td>5</td>\n",
       "      <td>4</td>\n",
       "      <td>1</td>\n",
       "      <td>0</td>\n",
       "      <td>0</td>\n",
       "      <td>0</td>\n",
       "      <td>0</td>\n",
       "      <td>0</td>\n",
       "      <td>0</td>\n",
       "      <td>...</td>\n",
       "      <td>0</td>\n",
       "      <td>0</td>\n",
       "      <td>0</td>\n",
       "      <td>0</td>\n",
       "      <td>0</td>\n",
       "      <td>0</td>\n",
       "      <td>0</td>\n",
       "      <td>0</td>\n",
       "      <td>0</td>\n",
       "      <td>0</td>\n",
       "    </tr>\n",
       "    <tr>\n",
       "      <th>...</th>\n",
       "      <td>...</td>\n",
       "      <td>...</td>\n",
       "      <td>...</td>\n",
       "      <td>...</td>\n",
       "      <td>...</td>\n",
       "      <td>...</td>\n",
       "      <td>...</td>\n",
       "      <td>...</td>\n",
       "      <td>...</td>\n",
       "      <td>...</td>\n",
       "      <td>...</td>\n",
       "      <td>...</td>\n",
       "      <td>...</td>\n",
       "      <td>...</td>\n",
       "      <td>...</td>\n",
       "      <td>...</td>\n",
       "      <td>...</td>\n",
       "      <td>...</td>\n",
       "      <td>...</td>\n",
       "      <td>...</td>\n",
       "      <td>...</td>\n",
       "    </tr>\n",
       "    <tr>\n",
       "      <th>127</th>\n",
       "      <td>3857</td>\n",
       "      <td>5</td>\n",
       "      <td>5</td>\n",
       "      <td>0</td>\n",
       "      <td>0</td>\n",
       "      <td>0</td>\n",
       "      <td>0</td>\n",
       "      <td>0</td>\n",
       "      <td>0</td>\n",
       "      <td>0</td>\n",
       "      <td>...</td>\n",
       "      <td>0</td>\n",
       "      <td>0</td>\n",
       "      <td>0</td>\n",
       "      <td>0</td>\n",
       "      <td>0</td>\n",
       "      <td>0</td>\n",
       "      <td>0</td>\n",
       "      <td>0</td>\n",
       "      <td>0</td>\n",
       "      <td>0</td>\n",
       "    </tr>\n",
       "    <tr>\n",
       "      <th>128</th>\n",
       "      <td>1070</td>\n",
       "      <td>4</td>\n",
       "      <td>3</td>\n",
       "      <td>0</td>\n",
       "      <td>0</td>\n",
       "      <td>0</td>\n",
       "      <td>0</td>\n",
       "      <td>0</td>\n",
       "      <td>0</td>\n",
       "      <td>0</td>\n",
       "      <td>...</td>\n",
       "      <td>0</td>\n",
       "      <td>0</td>\n",
       "      <td>0</td>\n",
       "      <td>0</td>\n",
       "      <td>0</td>\n",
       "      <td>0</td>\n",
       "      <td>0</td>\n",
       "      <td>0</td>\n",
       "      <td>0</td>\n",
       "      <td>0</td>\n",
       "    </tr>\n",
       "    <tr>\n",
       "      <th>129</th>\n",
       "      <td>2473</td>\n",
       "      <td>4</td>\n",
       "      <td>4</td>\n",
       "      <td>0</td>\n",
       "      <td>0</td>\n",
       "      <td>0</td>\n",
       "      <td>0</td>\n",
       "      <td>0</td>\n",
       "      <td>0</td>\n",
       "      <td>0</td>\n",
       "      <td>...</td>\n",
       "      <td>0</td>\n",
       "      <td>0</td>\n",
       "      <td>0</td>\n",
       "      <td>0</td>\n",
       "      <td>0</td>\n",
       "      <td>0</td>\n",
       "      <td>0</td>\n",
       "      <td>0</td>\n",
       "      <td>0</td>\n",
       "      <td>0</td>\n",
       "    </tr>\n",
       "    <tr>\n",
       "      <th>130</th>\n",
       "      <td>1118</td>\n",
       "      <td>3</td>\n",
       "      <td>3</td>\n",
       "      <td>0</td>\n",
       "      <td>0</td>\n",
       "      <td>0</td>\n",
       "      <td>0</td>\n",
       "      <td>0</td>\n",
       "      <td>0</td>\n",
       "      <td>0</td>\n",
       "      <td>...</td>\n",
       "      <td>0</td>\n",
       "      <td>0</td>\n",
       "      <td>0</td>\n",
       "      <td>0</td>\n",
       "      <td>0</td>\n",
       "      <td>0</td>\n",
       "      <td>0</td>\n",
       "      <td>0</td>\n",
       "      <td>0</td>\n",
       "      <td>0</td>\n",
       "    </tr>\n",
       "    <tr>\n",
       "      <th>131</th>\n",
       "      <td>1372</td>\n",
       "      <td>2</td>\n",
       "      <td>3</td>\n",
       "      <td>0</td>\n",
       "      <td>0</td>\n",
       "      <td>0</td>\n",
       "      <td>0</td>\n",
       "      <td>0</td>\n",
       "      <td>0</td>\n",
       "      <td>0</td>\n",
       "      <td>...</td>\n",
       "      <td>0</td>\n",
       "      <td>0</td>\n",
       "      <td>0</td>\n",
       "      <td>0</td>\n",
       "      <td>0</td>\n",
       "      <td>0</td>\n",
       "      <td>0</td>\n",
       "      <td>0</td>\n",
       "      <td>0</td>\n",
       "      <td>0</td>\n",
       "    </tr>\n",
       "  </tbody>\n",
       "</table>\n",
       "<p>100 rows × 462 columns</p>\n",
       "</div>"
      ],
      "text/plain": [
       "     total_sqft  bath  bhk  Aurangpura Block 39  Aurangpura Block 50  \\\n",
       "0          1264     2    2                    1                    0   \n",
       "2          1768     1    4                    1                    0   \n",
       "3          1106     1    3                    1                    0   \n",
       "4          1727     1    4                    1                    0   \n",
       "5          2667     5    4                    1                    0   \n",
       "..          ...   ...  ...                  ...                  ...   \n",
       "127        3857     5    5                    0                    0   \n",
       "128        1070     4    3                    0                    0   \n",
       "129        2473     4    4                    0                    0   \n",
       "130        1118     3    3                    0                    0   \n",
       "131        1372     2    3                    0                    0   \n",
       "\n",
       "     Aurangpura Central 26  Aurangpura Central 58  Aurangpura Central 59  \\\n",
       "0                        0                      0                      0   \n",
       "2                        0                      0                      0   \n",
       "3                        0                      0                      0   \n",
       "4                        0                      0                      0   \n",
       "5                        0                      0                      0   \n",
       "..                     ...                    ...                    ...   \n",
       "127                      0                      0                      0   \n",
       "128                      0                      0                      0   \n",
       "129                      0                      0                      0   \n",
       "130                      0                      0                      0   \n",
       "131                      0                      0                      0   \n",
       "\n",
       "     Aurangpura Central 9  Aurangpura East 13  ...  Waluj MIDC North 15  \\\n",
       "0                       0                   0  ...                    0   \n",
       "2                       0                   0  ...                    0   \n",
       "3                       0                   0  ...                    0   \n",
       "4                       0                   0  ...                    0   \n",
       "5                       0                   0  ...                    0   \n",
       "..                    ...                 ...  ...                  ...   \n",
       "127                     0                   0  ...                    0   \n",
       "128                     0                   0  ...                    0   \n",
       "129                     0                   0  ...                    0   \n",
       "130                     0                   0  ...                    0   \n",
       "131                     0                   0  ...                    0   \n",
       "\n",
       "     Waluj MIDC North 48  Waluj MIDC Phase 2  Waluj MIDC Phase 55  \\\n",
       "0                      0                   0                    0   \n",
       "2                      0                   0                    0   \n",
       "3                      0                   0                    0   \n",
       "4                      0                   0                    0   \n",
       "5                      0                   0                    0   \n",
       "..                   ...                 ...                  ...   \n",
       "127                    0                   0                    0   \n",
       "128                    0                   0                    0   \n",
       "129                    0                   0                    0   \n",
       "130                    0                   0                    0   \n",
       "131                    0                   0                    0   \n",
       "\n",
       "     Waluj MIDC Sector 14  Waluj MIDC Sector 17  Waluj MIDC Sector 43  \\\n",
       "0                       0                     0                     0   \n",
       "2                       0                     0                     0   \n",
       "3                       0                     0                     0   \n",
       "4                       0                     0                     0   \n",
       "5                       0                     0                     0   \n",
       "..                    ...                   ...                   ...   \n",
       "127                     0                     0                     0   \n",
       "128                     0                     0                     0   \n",
       "129                     0                     0                     0   \n",
       "130                     0                     0                     0   \n",
       "131                     0                     0                     0   \n",
       "\n",
       "     Waluj MIDC Sector 49  Waluj MIDC South 18  Waluj MIDC West 19  \n",
       "0                       0                    0                   0  \n",
       "2                       0                    0                   0  \n",
       "3                       0                    0                   0  \n",
       "4                       0                    0                   0  \n",
       "5                       0                    0                   0  \n",
       "..                    ...                  ...                 ...  \n",
       "127                     0                    0                   0  \n",
       "128                     0                    0                   0  \n",
       "129                     0                    0                   0  \n",
       "130                     0                    0                   0  \n",
       "131                     0                    0                   0  \n",
       "\n",
       "[100 rows x 462 columns]"
      ]
     },
     "execution_count": 45,
     "metadata": {},
     "output_type": "execute_result"
    }
   ],
   "source": [
    "X = df12.drop(['price'],axis='columns')\n",
    "X.head(100)"
   ]
  },
  {
   "cell_type": "code",
   "execution_count": null,
   "id": "4ff4e803",
   "metadata": {},
   "outputs": [
    {
     "data": {
      "text/plain": [
       "0     57.60\n",
       "2     87.43\n",
       "3     51.40\n",
       "4    103.88\n",
       "5    126.45\n",
       "Name: price, dtype: float64"
      ]
     },
     "execution_count": 46,
     "metadata": {},
     "output_type": "execute_result"
    }
   ],
   "source": [
    "y = df12.price\n",
    "y.head()"
   ]
  },
  {
   "cell_type": "code",
   "execution_count": null,
   "id": "f31a0de9",
   "metadata": {},
   "outputs": [],
   "source": [
    "from sklearn.model_selection import train_test_split\n",
    "X_train, X_test, y_train, y_test = train_test_split(X,y,test_size=0.2,random_state=10)"
   ]
  },
  {
   "cell_type": "code",
   "execution_count": null,
   "id": "0072f90d",
   "metadata": {},
   "outputs": [
    {
     "data": {
      "text/plain": [
       "0.9660375759330944"
      ]
     },
     "execution_count": 48,
     "metadata": {},
     "output_type": "execute_result"
    }
   ],
   "source": [
    "from sklearn.linear_model import LinearRegression\n",
    "lr_clf = LinearRegression()\n",
    "lr_clf.fit(X_train,y_train)\n",
    "lr_clf.score(X_test,y_test)"
   ]
  },
  {
   "cell_type": "code",
   "execution_count": null,
   "id": "bfa122de",
   "metadata": {},
   "outputs": [
    {
     "data": {
      "text/plain": [
       "array([0.96274683, 0.96649168, 0.96653743, 0.96283878, 0.9636611 ])"
      ]
     },
     "execution_count": 49,
     "metadata": {},
     "output_type": "execute_result"
    }
   ],
   "source": [
    "from sklearn.model_selection import ShuffleSplit\n",
    "from sklearn.model_selection import cross_val_score\n",
    "\n",
    "cv = ShuffleSplit(n_splits=5, test_size=0.2, random_state=0)\n",
    "\n",
    "cross_val_score(LinearRegression(), X, y, cv=cv)"
   ]
  },
  {
   "cell_type": "code",
   "execution_count": null,
   "id": "458c1a01",
   "metadata": {},
   "outputs": [],
   "source": [
    "import pandas as pd\n",
    "from sklearn.model_selection import GridSearchCV, ShuffleSplit\n",
    "from sklearn.linear_model import LinearRegression, Lasso\n",
    "from sklearn.tree import DecisionTreeRegressor\n",
    "\n",
    "def find_best_model_using_gridsearchcv(X, y):\n",
    "    # Convert X to DataFrame if it's not already\n",
    "    X = pd.DataFrame(X) if not isinstance(X, pd.DataFrame) else X\n",
    "\n",
    "    algos = {\n",
    "        'linear_regression': {\n",
    "            'model': LinearRegression(),\n",
    "            'params': {  \n",
    "                'fit_intercept': [True, False]\n",
    "            }\n",
    "        },\n",
    "        'lasso': {\n",
    "            'model': Lasso(),\n",
    "            'params': {\n",
    "                'alpha': [1, 2],\n",
    "                'selection': ['random', 'cyclic']\n",
    "            }\n",
    "        },\n",
    "        'decision_tree': {\n",
    "            'model': DecisionTreeRegressor(),\n",
    "            'params': {\n",
    "                'criterion': ['squared_error', 'friedman_mse'],\n",
    "                'splitter': ['best', 'random']\n",
    "            }\n",
    "        }\n",
    "    }\n",
    "    \n",
    "    scores = []\n",
    "    cv = ShuffleSplit(n_splits=5, test_size=0.2, random_state=0)\n",
    "    \n",
    "    for algo_name, config in algos.items():\n",
    "        gs = GridSearchCV(config['model'], config['params'], cv=cv, return_train_score=False)\n",
    "        gs.fit(X, y)  \n",
    "        scores.append({\n",
    "            'model': algo_name,\n",
    "            'best_score': gs.best_score_,\n",
    "            'best_params': gs.best_params_\n",
    "        })\n",
    "    \n",
    "    return pd.DataFrame(scores)\n"
   ]
  },
  {
   "cell_type": "code",
   "execution_count": null,
   "id": "bb65653a",
   "metadata": {},
   "outputs": [],
   "source": [
    "def predict_price(location,sqft,bath,bhk):    \n",
    "    loc_index = np.where(X.columns==location)[0][0]\n",
    "\n",
    "    x = np.zeros(len(X.columns))\n",
    "    x[0] = sqft\n",
    "    x[1] = bath\n",
    "    x[2] = bhk\n",
    "    if loc_index >= 0:\n",
    "        x[loc_index] = 1\n",
    "\n",
    "    return lr_clf.predict([x])[0]"
   ]
  },
  {
   "cell_type": "code",
   "execution_count": null,
   "id": "22d0090f",
   "metadata": {},
   "outputs": [
    {
     "data": {
      "text/plain": [
       "54.05301482822716"
      ]
     },
     "execution_count": 52,
     "metadata": {},
     "output_type": "execute_result"
    }
   ],
   "source": [
    "predict_price('Aurangpura Block 39', 1106, 1, 3)"
   ]
  },
  {
   "cell_type": "code",
   "execution_count": null,
   "id": "4cbdde34",
   "metadata": {},
   "outputs": [
    {
     "data": {
      "text/plain": [
       "106.82795491604507"
      ]
     },
     "execution_count": 53,
     "metadata": {},
     "output_type": "execute_result"
    }
   ],
   "source": [
    "predict_price('Aurangpura Block 39', 2106, 3, 4)"
   ]
  },
  {
   "cell_type": "code",
   "execution_count": null,
   "id": "a7448014",
   "metadata": {},
   "outputs": [
    {
     "data": {
      "text/plain": [
       "71.99410318625782"
      ]
     },
     "execution_count": 54,
     "metadata": {},
     "output_type": "execute_result"
    }
   ],
   "source": [
    "predict_price('Beed Bypass Central 8',1491,3,3)"
   ]
  },
  {
   "cell_type": "code",
   "execution_count": null,
   "id": "20a3ced6",
   "metadata": {},
   "outputs": [
    {
     "data": {
      "text/plain": [
       "48.34180770485706"
      ]
     },
     "execution_count": 55,
     "metadata": {},
     "output_type": "execute_result"
    }
   ],
   "source": [
    "predict_price('Aurangpura Block 39', 1000, 2, 2)"
   ]
  },
  {
   "cell_type": "code",
   "execution_count": null,
   "id": "24bfb76b",
   "metadata": {},
   "outputs": [
    {
     "data": {
      "text/plain": [
       "45.92035989589114"
      ]
     },
     "execution_count": 56,
     "metadata": {},
     "output_type": "execute_result"
    }
   ],
   "source": [
    "predict_price('Beed Bypass Central 8',1000,2,2)"
   ]
  },
  {
   "cell_type": "markdown",
   "id": "5f173423",
   "metadata": {},
   "source": [
    "# export the tested model to pickle file "
   ]
  },
  {
   "cell_type": "code",
   "execution_count": null,
   "id": "c973f1f0",
   "metadata": {},
   "outputs": [],
   "source": [
    "import pickle\n",
    "\n",
    "with open('sambhaji_nagar_home_prices_model.pickle', 'wb') as f:\n",
    "    pickle.dump(lr_clf, f)\n"
   ]
  },
  {
   "cell_type": "code",
   "execution_count": null,
   "id": "bd79d76d",
   "metadata": {},
   "outputs": [],
   "source": [
    "import json\n",
    "columns = {\n",
    "    'data_columns' : [col.lower() for col in X.columns]\n",
    "}\n",
    "with open(\"columns.json\",\"w\") as f:\n",
    "    f.write(json.dumps(columns))"
   ]
  },
  {
   "cell_type": "code",
   "execution_count": null,
   "id": "3af3164c",
   "metadata": {},
   "outputs": [],
   "source": []
  }
 ],
 "metadata": {
  "kernelspec": {
   "display_name": "scikit-env",
   "language": "python",
   "name": "python3"
  },
  "language_info": {
   "codemirror_mode": {
    "name": "ipython",
    "version": 3
   },
   "file_extension": ".py",
   "mimetype": "text/x-python",
   "name": "python",
   "nbconvert_exporter": "python",
   "pygments_lexer": "ipython3",
   "version": "3.8.20"
  }
 },
 "nbformat": 4,
 "nbformat_minor": 5
}
